{
 "cells": [
  {
   "cell_type": "code",
   "execution_count": 1,
   "id": "cdb7a4b6",
   "metadata": {},
   "outputs": [],
   "source": [
    "import pandas as pd"
   ]
  },
  {
   "cell_type": "code",
   "execution_count": 22,
   "id": "29adf472",
   "metadata": {},
   "outputs": [
    {
     "data": {
      "text/html": [
       "<div>\n",
       "<style scoped>\n",
       "    .dataframe tbody tr th:only-of-type {\n",
       "        vertical-align: middle;\n",
       "    }\n",
       "\n",
       "    .dataframe tbody tr th {\n",
       "        vertical-align: top;\n",
       "    }\n",
       "\n",
       "    .dataframe thead th {\n",
       "        text-align: right;\n",
       "    }\n",
       "</style>\n",
       "<table border=\"1\" class=\"dataframe\">\n",
       "  <thead>\n",
       "    <tr style=\"text-align: right;\">\n",
       "      <th></th>\n",
       "      <th>Country name</th>\n",
       "      <th>Regional indicator</th>\n",
       "      <th>Ladder score</th>\n",
       "      <th>Standard error of ladder score</th>\n",
       "      <th>upperwhisker</th>\n",
       "      <th>lowerwhisker</th>\n",
       "      <th>Logged GDP per capita</th>\n",
       "      <th>Social support</th>\n",
       "      <th>Healthy life expectancy</th>\n",
       "      <th>Freedom to make life choices</th>\n",
       "      <th>Generosity</th>\n",
       "      <th>Perceptions of corruption</th>\n",
       "      <th>Ladder score in Dystopia</th>\n",
       "      <th>Explained by: Log GDP per capita</th>\n",
       "      <th>Explained by: Social support</th>\n",
       "      <th>Explained by: Healthy life expectancy</th>\n",
       "      <th>Explained by: Freedom to make life choices</th>\n",
       "      <th>Explained by: Generosity</th>\n",
       "      <th>Explained by: Perceptions of corruption</th>\n",
       "      <th>Dystopia + residual</th>\n",
       "    </tr>\n",
       "  </thead>\n",
       "  <tbody>\n",
       "    <tr>\n",
       "      <th>0</th>\n",
       "      <td>Finland</td>\n",
       "      <td>Western Europe</td>\n",
       "      <td>7.842</td>\n",
       "      <td>0.032</td>\n",
       "      <td>7.904</td>\n",
       "      <td>7.780</td>\n",
       "      <td>10.775</td>\n",
       "      <td>0.954</td>\n",
       "      <td>72.000</td>\n",
       "      <td>0.949</td>\n",
       "      <td>-0.098</td>\n",
       "      <td>0.186</td>\n",
       "      <td>2.43</td>\n",
       "      <td>1.446</td>\n",
       "      <td>1.106</td>\n",
       "      <td>0.741</td>\n",
       "      <td>0.691</td>\n",
       "      <td>0.124</td>\n",
       "      <td>0.481</td>\n",
       "      <td>3.253</td>\n",
       "    </tr>\n",
       "    <tr>\n",
       "      <th>1</th>\n",
       "      <td>Denmark</td>\n",
       "      <td>Western Europe</td>\n",
       "      <td>7.620</td>\n",
       "      <td>0.035</td>\n",
       "      <td>7.687</td>\n",
       "      <td>7.552</td>\n",
       "      <td>10.933</td>\n",
       "      <td>0.954</td>\n",
       "      <td>72.700</td>\n",
       "      <td>0.946</td>\n",
       "      <td>0.030</td>\n",
       "      <td>0.179</td>\n",
       "      <td>2.43</td>\n",
       "      <td>1.502</td>\n",
       "      <td>1.108</td>\n",
       "      <td>0.763</td>\n",
       "      <td>0.686</td>\n",
       "      <td>0.208</td>\n",
       "      <td>0.485</td>\n",
       "      <td>2.868</td>\n",
       "    </tr>\n",
       "    <tr>\n",
       "      <th>2</th>\n",
       "      <td>Switzerland</td>\n",
       "      <td>Western Europe</td>\n",
       "      <td>7.571</td>\n",
       "      <td>0.036</td>\n",
       "      <td>7.643</td>\n",
       "      <td>7.500</td>\n",
       "      <td>11.117</td>\n",
       "      <td>0.942</td>\n",
       "      <td>74.400</td>\n",
       "      <td>0.919</td>\n",
       "      <td>0.025</td>\n",
       "      <td>0.292</td>\n",
       "      <td>2.43</td>\n",
       "      <td>1.566</td>\n",
       "      <td>1.079</td>\n",
       "      <td>0.816</td>\n",
       "      <td>0.653</td>\n",
       "      <td>0.204</td>\n",
       "      <td>0.413</td>\n",
       "      <td>2.839</td>\n",
       "    </tr>\n",
       "    <tr>\n",
       "      <th>3</th>\n",
       "      <td>Iceland</td>\n",
       "      <td>Western Europe</td>\n",
       "      <td>7.554</td>\n",
       "      <td>0.059</td>\n",
       "      <td>7.670</td>\n",
       "      <td>7.438</td>\n",
       "      <td>10.878</td>\n",
       "      <td>0.983</td>\n",
       "      <td>73.000</td>\n",
       "      <td>0.955</td>\n",
       "      <td>0.160</td>\n",
       "      <td>0.673</td>\n",
       "      <td>2.43</td>\n",
       "      <td>1.482</td>\n",
       "      <td>1.172</td>\n",
       "      <td>0.772</td>\n",
       "      <td>0.698</td>\n",
       "      <td>0.293</td>\n",
       "      <td>0.170</td>\n",
       "      <td>2.967</td>\n",
       "    </tr>\n",
       "    <tr>\n",
       "      <th>4</th>\n",
       "      <td>Netherlands</td>\n",
       "      <td>Western Europe</td>\n",
       "      <td>7.464</td>\n",
       "      <td>0.027</td>\n",
       "      <td>7.518</td>\n",
       "      <td>7.410</td>\n",
       "      <td>10.932</td>\n",
       "      <td>0.942</td>\n",
       "      <td>72.400</td>\n",
       "      <td>0.913</td>\n",
       "      <td>0.175</td>\n",
       "      <td>0.338</td>\n",
       "      <td>2.43</td>\n",
       "      <td>1.501</td>\n",
       "      <td>1.079</td>\n",
       "      <td>0.753</td>\n",
       "      <td>0.647</td>\n",
       "      <td>0.302</td>\n",
       "      <td>0.384</td>\n",
       "      <td>2.798</td>\n",
       "    </tr>\n",
       "    <tr>\n",
       "      <th>...</th>\n",
       "      <td>...</td>\n",
       "      <td>...</td>\n",
       "      <td>...</td>\n",
       "      <td>...</td>\n",
       "      <td>...</td>\n",
       "      <td>...</td>\n",
       "      <td>...</td>\n",
       "      <td>...</td>\n",
       "      <td>...</td>\n",
       "      <td>...</td>\n",
       "      <td>...</td>\n",
       "      <td>...</td>\n",
       "      <td>...</td>\n",
       "      <td>...</td>\n",
       "      <td>...</td>\n",
       "      <td>...</td>\n",
       "      <td>...</td>\n",
       "      <td>...</td>\n",
       "      <td>...</td>\n",
       "      <td>...</td>\n",
       "    </tr>\n",
       "    <tr>\n",
       "      <th>144</th>\n",
       "      <td>Lesotho</td>\n",
       "      <td>Sub-Saharan Africa</td>\n",
       "      <td>3.512</td>\n",
       "      <td>0.120</td>\n",
       "      <td>3.748</td>\n",
       "      <td>3.276</td>\n",
       "      <td>7.926</td>\n",
       "      <td>0.787</td>\n",
       "      <td>48.700</td>\n",
       "      <td>0.715</td>\n",
       "      <td>-0.131</td>\n",
       "      <td>0.915</td>\n",
       "      <td>2.43</td>\n",
       "      <td>0.451</td>\n",
       "      <td>0.731</td>\n",
       "      <td>0.007</td>\n",
       "      <td>0.405</td>\n",
       "      <td>0.103</td>\n",
       "      <td>0.015</td>\n",
       "      <td>1.800</td>\n",
       "    </tr>\n",
       "    <tr>\n",
       "      <th>145</th>\n",
       "      <td>Botswana</td>\n",
       "      <td>Sub-Saharan Africa</td>\n",
       "      <td>3.467</td>\n",
       "      <td>0.074</td>\n",
       "      <td>3.611</td>\n",
       "      <td>3.322</td>\n",
       "      <td>9.782</td>\n",
       "      <td>0.784</td>\n",
       "      <td>59.269</td>\n",
       "      <td>0.824</td>\n",
       "      <td>-0.246</td>\n",
       "      <td>0.801</td>\n",
       "      <td>2.43</td>\n",
       "      <td>1.099</td>\n",
       "      <td>0.724</td>\n",
       "      <td>0.340</td>\n",
       "      <td>0.539</td>\n",
       "      <td>0.027</td>\n",
       "      <td>0.088</td>\n",
       "      <td>0.648</td>\n",
       "    </tr>\n",
       "    <tr>\n",
       "      <th>146</th>\n",
       "      <td>Rwanda</td>\n",
       "      <td>Sub-Saharan Africa</td>\n",
       "      <td>3.415</td>\n",
       "      <td>0.068</td>\n",
       "      <td>3.548</td>\n",
       "      <td>3.282</td>\n",
       "      <td>7.676</td>\n",
       "      <td>0.552</td>\n",
       "      <td>61.400</td>\n",
       "      <td>0.897</td>\n",
       "      <td>0.061</td>\n",
       "      <td>0.167</td>\n",
       "      <td>2.43</td>\n",
       "      <td>0.364</td>\n",
       "      <td>0.202</td>\n",
       "      <td>0.407</td>\n",
       "      <td>0.627</td>\n",
       "      <td>0.227</td>\n",
       "      <td>0.493</td>\n",
       "      <td>1.095</td>\n",
       "    </tr>\n",
       "    <tr>\n",
       "      <th>147</th>\n",
       "      <td>Zimbabwe</td>\n",
       "      <td>Sub-Saharan Africa</td>\n",
       "      <td>3.145</td>\n",
       "      <td>0.058</td>\n",
       "      <td>3.259</td>\n",
       "      <td>3.030</td>\n",
       "      <td>7.943</td>\n",
       "      <td>0.750</td>\n",
       "      <td>56.201</td>\n",
       "      <td>0.677</td>\n",
       "      <td>-0.047</td>\n",
       "      <td>0.821</td>\n",
       "      <td>2.43</td>\n",
       "      <td>0.457</td>\n",
       "      <td>0.649</td>\n",
       "      <td>0.243</td>\n",
       "      <td>0.359</td>\n",
       "      <td>0.157</td>\n",
       "      <td>0.075</td>\n",
       "      <td>1.205</td>\n",
       "    </tr>\n",
       "    <tr>\n",
       "      <th>148</th>\n",
       "      <td>Afghanistan</td>\n",
       "      <td>South Asia</td>\n",
       "      <td>2.523</td>\n",
       "      <td>0.038</td>\n",
       "      <td>2.596</td>\n",
       "      <td>2.449</td>\n",
       "      <td>7.695</td>\n",
       "      <td>0.463</td>\n",
       "      <td>52.493</td>\n",
       "      <td>0.382</td>\n",
       "      <td>-0.102</td>\n",
       "      <td>0.924</td>\n",
       "      <td>2.43</td>\n",
       "      <td>0.370</td>\n",
       "      <td>0.000</td>\n",
       "      <td>0.126</td>\n",
       "      <td>0.000</td>\n",
       "      <td>0.122</td>\n",
       "      <td>0.010</td>\n",
       "      <td>1.895</td>\n",
       "    </tr>\n",
       "  </tbody>\n",
       "</table>\n",
       "<p>149 rows × 20 columns</p>\n",
       "</div>"
      ],
      "text/plain": [
       "    Country name  Regional indicator  Ladder score  \\\n",
       "0        Finland      Western Europe         7.842   \n",
       "1        Denmark      Western Europe         7.620   \n",
       "2    Switzerland      Western Europe         7.571   \n",
       "3        Iceland      Western Europe         7.554   \n",
       "4    Netherlands      Western Europe         7.464   \n",
       "..           ...                 ...           ...   \n",
       "144      Lesotho  Sub-Saharan Africa         3.512   \n",
       "145     Botswana  Sub-Saharan Africa         3.467   \n",
       "146       Rwanda  Sub-Saharan Africa         3.415   \n",
       "147     Zimbabwe  Sub-Saharan Africa         3.145   \n",
       "148  Afghanistan          South Asia         2.523   \n",
       "\n",
       "     Standard error of ladder score  upperwhisker  lowerwhisker  \\\n",
       "0                             0.032         7.904         7.780   \n",
       "1                             0.035         7.687         7.552   \n",
       "2                             0.036         7.643         7.500   \n",
       "3                             0.059         7.670         7.438   \n",
       "4                             0.027         7.518         7.410   \n",
       "..                              ...           ...           ...   \n",
       "144                           0.120         3.748         3.276   \n",
       "145                           0.074         3.611         3.322   \n",
       "146                           0.068         3.548         3.282   \n",
       "147                           0.058         3.259         3.030   \n",
       "148                           0.038         2.596         2.449   \n",
       "\n",
       "     Logged GDP per capita  Social support  Healthy life expectancy  \\\n",
       "0                   10.775           0.954                   72.000   \n",
       "1                   10.933           0.954                   72.700   \n",
       "2                   11.117           0.942                   74.400   \n",
       "3                   10.878           0.983                   73.000   \n",
       "4                   10.932           0.942                   72.400   \n",
       "..                     ...             ...                      ...   \n",
       "144                  7.926           0.787                   48.700   \n",
       "145                  9.782           0.784                   59.269   \n",
       "146                  7.676           0.552                   61.400   \n",
       "147                  7.943           0.750                   56.201   \n",
       "148                  7.695           0.463                   52.493   \n",
       "\n",
       "     Freedom to make life choices  Generosity  Perceptions of corruption  \\\n",
       "0                           0.949      -0.098                      0.186   \n",
       "1                           0.946       0.030                      0.179   \n",
       "2                           0.919       0.025                      0.292   \n",
       "3                           0.955       0.160                      0.673   \n",
       "4                           0.913       0.175                      0.338   \n",
       "..                            ...         ...                        ...   \n",
       "144                         0.715      -0.131                      0.915   \n",
       "145                         0.824      -0.246                      0.801   \n",
       "146                         0.897       0.061                      0.167   \n",
       "147                         0.677      -0.047                      0.821   \n",
       "148                         0.382      -0.102                      0.924   \n",
       "\n",
       "     Ladder score in Dystopia  Explained by: Log GDP per capita  \\\n",
       "0                        2.43                             1.446   \n",
       "1                        2.43                             1.502   \n",
       "2                        2.43                             1.566   \n",
       "3                        2.43                             1.482   \n",
       "4                        2.43                             1.501   \n",
       "..                        ...                               ...   \n",
       "144                      2.43                             0.451   \n",
       "145                      2.43                             1.099   \n",
       "146                      2.43                             0.364   \n",
       "147                      2.43                             0.457   \n",
       "148                      2.43                             0.370   \n",
       "\n",
       "     Explained by: Social support  Explained by: Healthy life expectancy  \\\n",
       "0                           1.106                                  0.741   \n",
       "1                           1.108                                  0.763   \n",
       "2                           1.079                                  0.816   \n",
       "3                           1.172                                  0.772   \n",
       "4                           1.079                                  0.753   \n",
       "..                            ...                                    ...   \n",
       "144                         0.731                                  0.007   \n",
       "145                         0.724                                  0.340   \n",
       "146                         0.202                                  0.407   \n",
       "147                         0.649                                  0.243   \n",
       "148                         0.000                                  0.126   \n",
       "\n",
       "     Explained by: Freedom to make life choices  Explained by: Generosity  \\\n",
       "0                                         0.691                     0.124   \n",
       "1                                         0.686                     0.208   \n",
       "2                                         0.653                     0.204   \n",
       "3                                         0.698                     0.293   \n",
       "4                                         0.647                     0.302   \n",
       "..                                          ...                       ...   \n",
       "144                                       0.405                     0.103   \n",
       "145                                       0.539                     0.027   \n",
       "146                                       0.627                     0.227   \n",
       "147                                       0.359                     0.157   \n",
       "148                                       0.000                     0.122   \n",
       "\n",
       "     Explained by: Perceptions of corruption  Dystopia + residual  \n",
       "0                                      0.481                3.253  \n",
       "1                                      0.485                2.868  \n",
       "2                                      0.413                2.839  \n",
       "3                                      0.170                2.967  \n",
       "4                                      0.384                2.798  \n",
       "..                                       ...                  ...  \n",
       "144                                    0.015                1.800  \n",
       "145                                    0.088                0.648  \n",
       "146                                    0.493                1.095  \n",
       "147                                    0.075                1.205  \n",
       "148                                    0.010                1.895  \n",
       "\n",
       "[149 rows x 20 columns]"
      ]
     },
     "execution_count": 22,
     "metadata": {},
     "output_type": "execute_result"
    }
   ],
   "source": [
    "# Create a dataframe for 2019 Happiness Report \n",
    "\n",
    "Post2021_df = pd.read_csv(\"whr_2021.csv\")\n",
    "Post2021_df"
   ]
  },
  {
   "cell_type": "code",
   "execution_count": 24,
   "id": "0c98d6fc",
   "metadata": {
    "scrolled": false
   },
   "outputs": [],
   "source": [
    "Post2021_df = Post2021_df.drop(columns ='Regional indicator')"
   ]
  },
  {
   "cell_type": "code",
   "execution_count": 25,
   "id": "4ee0171e",
   "metadata": {},
   "outputs": [],
   "source": [
    "Post2021_df = Post2021_df.drop(columns ='Standard error of ladder score')"
   ]
  },
  {
   "cell_type": "code",
   "execution_count": 26,
   "id": "8d8381be",
   "metadata": {},
   "outputs": [],
   "source": [
    "Post2021_df = Post2021_df.drop(columns ='lowerwhisker')"
   ]
  },
  {
   "cell_type": "code",
   "execution_count": 27,
   "id": "6ef51593",
   "metadata": {},
   "outputs": [],
   "source": [
    "Post2021_df = Post2021_df.drop(columns ='Logged GDP per capita')"
   ]
  },
  {
   "cell_type": "code",
   "execution_count": 28,
   "id": "3c94b5e9",
   "metadata": {},
   "outputs": [],
   "source": [
    "Post2021_df = Post2021_df.drop(columns ='Perceptions of corruption')"
   ]
  },
  {
   "cell_type": "code",
   "execution_count": 29,
   "id": "3ef5f6bb",
   "metadata": {},
   "outputs": [],
   "source": [
    "Post2021_df = Post2021_df.drop(columns ='Ladder score in Dystopia')"
   ]
  },
  {
   "cell_type": "code",
   "execution_count": 30,
   "id": "9473b8ff",
   "metadata": {},
   "outputs": [],
   "source": [
    "Post2021_df = Post2021_df.drop(columns ='Explained by: Social support')"
   ]
  },
  {
   "cell_type": "code",
   "execution_count": 31,
   "id": "a06015c5",
   "metadata": {},
   "outputs": [],
   "source": [
    "Post2021_df = Post2021_df.drop(columns ='Explained by: Healthy life expectancy')"
   ]
  },
  {
   "cell_type": "code",
   "execution_count": 32,
   "id": "8de2e54a",
   "metadata": {},
   "outputs": [],
   "source": [
    "Post2021_df = Post2021_df.drop(columns ='Explained by: Freedom to make life choices')"
   ]
  },
  {
   "cell_type": "code",
   "execution_count": 33,
   "id": "7688b8a7",
   "metadata": {},
   "outputs": [],
   "source": [
    "Post2021_df = Post2021_df.drop(columns ='Dystopia + residual')"
   ]
  },
  {
   "cell_type": "code",
   "execution_count": 36,
   "id": "7fd27052",
   "metadata": {},
   "outputs": [],
   "source": [
    "Post2021_df = Post2021_df.drop(columns ='upperwhisker')"
   ]
  },
  {
   "cell_type": "code",
   "execution_count": 37,
   "id": "693af351",
   "metadata": {},
   "outputs": [
    {
     "data": {
      "text/html": [
       "<div>\n",
       "<style scoped>\n",
       "    .dataframe tbody tr th:only-of-type {\n",
       "        vertical-align: middle;\n",
       "    }\n",
       "\n",
       "    .dataframe tbody tr th {\n",
       "        vertical-align: top;\n",
       "    }\n",
       "\n",
       "    .dataframe thead th {\n",
       "        text-align: right;\n",
       "    }\n",
       "</style>\n",
       "<table border=\"1\" class=\"dataframe\">\n",
       "  <thead>\n",
       "    <tr style=\"text-align: right;\">\n",
       "      <th></th>\n",
       "      <th>Country name</th>\n",
       "      <th>Ladder score</th>\n",
       "      <th>Social support</th>\n",
       "      <th>Healthy life expectancy</th>\n",
       "      <th>Freedom to make life choices</th>\n",
       "      <th>Generosity</th>\n",
       "      <th>Explained by: Log GDP per capita</th>\n",
       "      <th>Explained by: Generosity</th>\n",
       "      <th>Explained by: Perceptions of corruption</th>\n",
       "    </tr>\n",
       "  </thead>\n",
       "  <tbody>\n",
       "    <tr>\n",
       "      <th>0</th>\n",
       "      <td>Finland</td>\n",
       "      <td>7.842</td>\n",
       "      <td>0.954</td>\n",
       "      <td>72.000</td>\n",
       "      <td>0.949</td>\n",
       "      <td>-0.098</td>\n",
       "      <td>1.446</td>\n",
       "      <td>0.124</td>\n",
       "      <td>0.481</td>\n",
       "    </tr>\n",
       "    <tr>\n",
       "      <th>1</th>\n",
       "      <td>Denmark</td>\n",
       "      <td>7.620</td>\n",
       "      <td>0.954</td>\n",
       "      <td>72.700</td>\n",
       "      <td>0.946</td>\n",
       "      <td>0.030</td>\n",
       "      <td>1.502</td>\n",
       "      <td>0.208</td>\n",
       "      <td>0.485</td>\n",
       "    </tr>\n",
       "    <tr>\n",
       "      <th>2</th>\n",
       "      <td>Switzerland</td>\n",
       "      <td>7.571</td>\n",
       "      <td>0.942</td>\n",
       "      <td>74.400</td>\n",
       "      <td>0.919</td>\n",
       "      <td>0.025</td>\n",
       "      <td>1.566</td>\n",
       "      <td>0.204</td>\n",
       "      <td>0.413</td>\n",
       "    </tr>\n",
       "    <tr>\n",
       "      <th>3</th>\n",
       "      <td>Iceland</td>\n",
       "      <td>7.554</td>\n",
       "      <td>0.983</td>\n",
       "      <td>73.000</td>\n",
       "      <td>0.955</td>\n",
       "      <td>0.160</td>\n",
       "      <td>1.482</td>\n",
       "      <td>0.293</td>\n",
       "      <td>0.170</td>\n",
       "    </tr>\n",
       "    <tr>\n",
       "      <th>4</th>\n",
       "      <td>Netherlands</td>\n",
       "      <td>7.464</td>\n",
       "      <td>0.942</td>\n",
       "      <td>72.400</td>\n",
       "      <td>0.913</td>\n",
       "      <td>0.175</td>\n",
       "      <td>1.501</td>\n",
       "      <td>0.302</td>\n",
       "      <td>0.384</td>\n",
       "    </tr>\n",
       "    <tr>\n",
       "      <th>...</th>\n",
       "      <td>...</td>\n",
       "      <td>...</td>\n",
       "      <td>...</td>\n",
       "      <td>...</td>\n",
       "      <td>...</td>\n",
       "      <td>...</td>\n",
       "      <td>...</td>\n",
       "      <td>...</td>\n",
       "      <td>...</td>\n",
       "    </tr>\n",
       "    <tr>\n",
       "      <th>144</th>\n",
       "      <td>Lesotho</td>\n",
       "      <td>3.512</td>\n",
       "      <td>0.787</td>\n",
       "      <td>48.700</td>\n",
       "      <td>0.715</td>\n",
       "      <td>-0.131</td>\n",
       "      <td>0.451</td>\n",
       "      <td>0.103</td>\n",
       "      <td>0.015</td>\n",
       "    </tr>\n",
       "    <tr>\n",
       "      <th>145</th>\n",
       "      <td>Botswana</td>\n",
       "      <td>3.467</td>\n",
       "      <td>0.784</td>\n",
       "      <td>59.269</td>\n",
       "      <td>0.824</td>\n",
       "      <td>-0.246</td>\n",
       "      <td>1.099</td>\n",
       "      <td>0.027</td>\n",
       "      <td>0.088</td>\n",
       "    </tr>\n",
       "    <tr>\n",
       "      <th>146</th>\n",
       "      <td>Rwanda</td>\n",
       "      <td>3.415</td>\n",
       "      <td>0.552</td>\n",
       "      <td>61.400</td>\n",
       "      <td>0.897</td>\n",
       "      <td>0.061</td>\n",
       "      <td>0.364</td>\n",
       "      <td>0.227</td>\n",
       "      <td>0.493</td>\n",
       "    </tr>\n",
       "    <tr>\n",
       "      <th>147</th>\n",
       "      <td>Zimbabwe</td>\n",
       "      <td>3.145</td>\n",
       "      <td>0.750</td>\n",
       "      <td>56.201</td>\n",
       "      <td>0.677</td>\n",
       "      <td>-0.047</td>\n",
       "      <td>0.457</td>\n",
       "      <td>0.157</td>\n",
       "      <td>0.075</td>\n",
       "    </tr>\n",
       "    <tr>\n",
       "      <th>148</th>\n",
       "      <td>Afghanistan</td>\n",
       "      <td>2.523</td>\n",
       "      <td>0.463</td>\n",
       "      <td>52.493</td>\n",
       "      <td>0.382</td>\n",
       "      <td>-0.102</td>\n",
       "      <td>0.370</td>\n",
       "      <td>0.122</td>\n",
       "      <td>0.010</td>\n",
       "    </tr>\n",
       "  </tbody>\n",
       "</table>\n",
       "<p>149 rows × 9 columns</p>\n",
       "</div>"
      ],
      "text/plain": [
       "    Country name  Ladder score  Social support  Healthy life expectancy  \\\n",
       "0        Finland         7.842           0.954                   72.000   \n",
       "1        Denmark         7.620           0.954                   72.700   \n",
       "2    Switzerland         7.571           0.942                   74.400   \n",
       "3        Iceland         7.554           0.983                   73.000   \n",
       "4    Netherlands         7.464           0.942                   72.400   \n",
       "..           ...           ...             ...                      ...   \n",
       "144      Lesotho         3.512           0.787                   48.700   \n",
       "145     Botswana         3.467           0.784                   59.269   \n",
       "146       Rwanda         3.415           0.552                   61.400   \n",
       "147     Zimbabwe         3.145           0.750                   56.201   \n",
       "148  Afghanistan         2.523           0.463                   52.493   \n",
       "\n",
       "     Freedom to make life choices  Generosity  \\\n",
       "0                           0.949      -0.098   \n",
       "1                           0.946       0.030   \n",
       "2                           0.919       0.025   \n",
       "3                           0.955       0.160   \n",
       "4                           0.913       0.175   \n",
       "..                            ...         ...   \n",
       "144                         0.715      -0.131   \n",
       "145                         0.824      -0.246   \n",
       "146                         0.897       0.061   \n",
       "147                         0.677      -0.047   \n",
       "148                         0.382      -0.102   \n",
       "\n",
       "     Explained by: Log GDP per capita  Explained by: Generosity  \\\n",
       "0                               1.446                     0.124   \n",
       "1                               1.502                     0.208   \n",
       "2                               1.566                     0.204   \n",
       "3                               1.482                     0.293   \n",
       "4                               1.501                     0.302   \n",
       "..                                ...                       ...   \n",
       "144                             0.451                     0.103   \n",
       "145                             1.099                     0.027   \n",
       "146                             0.364                     0.227   \n",
       "147                             0.457                     0.157   \n",
       "148                             0.370                     0.122   \n",
       "\n",
       "     Explained by: Perceptions of corruption  \n",
       "0                                      0.481  \n",
       "1                                      0.485  \n",
       "2                                      0.413  \n",
       "3                                      0.170  \n",
       "4                                      0.384  \n",
       "..                                       ...  \n",
       "144                                    0.015  \n",
       "145                                    0.088  \n",
       "146                                    0.493  \n",
       "147                                    0.075  \n",
       "148                                    0.010  \n",
       "\n",
       "[149 rows x 9 columns]"
      ]
     },
     "execution_count": 37,
     "metadata": {},
     "output_type": "execute_result"
    }
   ],
   "source": [
    "Post2021_df"
   ]
  },
  {
   "cell_type": "code",
   "execution_count": 38,
   "id": "a0ce3f20",
   "metadata": {},
   "outputs": [
    {
     "name": "stdout",
     "output_type": "stream",
     "text": [
      "7.842\n"
     ]
    }
   ],
   "source": [
    "column = Post2021_df[\"Ladder score\"]\n",
    "max_value = column.max()\n",
    "print(max_value)"
   ]
  },
  {
   "cell_type": "code",
   "execution_count": 48,
   "id": "91fa0a5b",
   "metadata": {},
   "outputs": [
    {
     "name": "stdout",
     "output_type": "stream",
     "text": [
      "  Country name  Ladder score  Social support  Healthy life expectancy  \\\n",
      "0      Finland         7.842           0.954                     72.0   \n",
      "\n",
      "   Freedom to make life choices  Generosity  Explained by: Log GDP per capita  \\\n",
      "0                         0.949      -0.098                             1.446   \n",
      "\n",
      "   Explained by: Generosity  Explained by: Perceptions of corruption  \n",
      "0                     0.124                                    0.481  \n"
     ]
    }
   ],
   "source": [
    "max = Post2021_df.loc[(Post2021_df[\"Ladder score\"] == max_value)]\n",
    "print(max)"
   ]
  },
  {
   "cell_type": "code",
   "execution_count": 49,
   "id": "aa76d264",
   "metadata": {},
   "outputs": [
    {
     "name": "stdout",
     "output_type": "stream",
     "text": [
      "Finland\n"
     ]
    }
   ],
   "source": [
    "print((max['Country name']).to_string(index=False))"
   ]
  },
  {
   "cell_type": "code",
   "execution_count": 50,
   "id": "75d89022",
   "metadata": {},
   "outputs": [
    {
     "name": "stdout",
     "output_type": "stream",
     "text": [
      "0.983\n"
     ]
    }
   ],
   "source": [
    "column = Post2021_df[\"Social support\"]\n",
    "max_value = column.max()\n",
    "print(max_value)"
   ]
  },
  {
   "cell_type": "code",
   "execution_count": 51,
   "id": "9f9a9569",
   "metadata": {},
   "outputs": [
    {
     "name": "stdout",
     "output_type": "stream",
     "text": [
      "    Country name  Ladder score  Social support  Healthy life expectancy  \\\n",
      "3        Iceland         7.554           0.983                   73.000   \n",
      "96  Turkmenistan         5.066           0.983                   62.409   \n",
      "\n",
      "    Freedom to make life choices  Generosity  \\\n",
      "3                          0.955       0.160   \n",
      "96                         0.877       0.273   \n",
      "\n",
      "    Explained by: Log GDP per capita  Explained by: Generosity  \\\n",
      "3                              1.482                     0.293   \n",
      "96                             1.046                     0.366   \n",
      "\n",
      "    Explained by: Perceptions of corruption  \n",
      "3                                     0.170  \n",
      "96                                    0.033  \n"
     ]
    }
   ],
   "source": [
    "max = Post2021_df.loc[(Post2021_df[\"Social support\"] == max_value)]\n",
    "print(max)"
   ]
  },
  {
   "cell_type": "code",
   "execution_count": 53,
   "id": "8a38104e",
   "metadata": {},
   "outputs": [
    {
     "name": "stdout",
     "output_type": "stream",
     "text": [
      "     Iceland\n",
      "Turkmenistan\n"
     ]
    }
   ],
   "source": [
    "print((max['Country name']).to_string(index=False))"
   ]
  },
  {
   "cell_type": "code",
   "execution_count": 54,
   "id": "b03157bd",
   "metadata": {},
   "outputs": [
    {
     "name": "stdout",
     "output_type": "stream",
     "text": [
      "76.953\n"
     ]
    }
   ],
   "source": [
    "column = Post2021_df[\"Healthy life expectancy\"]\n",
    "max_value = column.max()\n",
    "print(max_value)"
   ]
  },
  {
   "cell_type": "code",
   "execution_count": 55,
   "id": "1bb7f021",
   "metadata": {},
   "outputs": [
    {
     "name": "stdout",
     "output_type": "stream",
     "text": [
      "   Country name  Ladder score  Social support  Healthy life expectancy  \\\n",
      "31    Singapore         6.377           0.915                   76.953   \n",
      "\n",
      "    Freedom to make life choices  Generosity  \\\n",
      "31                         0.927      -0.018   \n",
      "\n",
      "    Explained by: Log GDP per capita  Explained by: Generosity  \\\n",
      "31                             1.695                     0.176   \n",
      "\n",
      "    Explained by: Perceptions of corruption  \n",
      "31                                    0.547  \n"
     ]
    }
   ],
   "source": [
    "max = Post2021_df.loc[(Post2021_df[\"Healthy life expectancy\"] == max_value)]\n",
    "print(max)"
   ]
  },
  {
   "cell_type": "code",
   "execution_count": 56,
   "id": "e4b7971f",
   "metadata": {},
   "outputs": [
    {
     "name": "stdout",
     "output_type": "stream",
     "text": [
      "Singapore\n"
     ]
    }
   ],
   "source": [
    "print((max['Country name']).to_string(index=False))"
   ]
  },
  {
   "cell_type": "code",
   "execution_count": 57,
   "id": "e13fb1e8",
   "metadata": {},
   "outputs": [
    {
     "name": "stdout",
     "output_type": "stream",
     "text": [
      "0.97\n"
     ]
    }
   ],
   "source": [
    "column = Post2021_df[\"Freedom to make life choices\"]\n",
    "max_value = column.max()\n",
    "print(max_value)"
   ]
  },
  {
   "cell_type": "code",
   "execution_count": 59,
   "id": "ff0f9765",
   "metadata": {},
   "outputs": [
    {
     "name": "stdout",
     "output_type": "stream",
     "text": [
      "   Country name  Ladder score  Social support  Healthy life expectancy  \\\n",
      "41   Uzbekistan         6.179           0.918                   65.255   \n",
      "\n",
      "    Freedom to make life choices  Generosity  \\\n",
      "41                          0.97       0.311   \n",
      "\n",
      "    Explained by: Log GDP per capita  Explained by: Generosity  \\\n",
      "41                             0.769                     0.391   \n",
      "\n",
      "    Explained by: Perceptions of corruption  \n",
      "41                                    0.271  \n"
     ]
    }
   ],
   "source": [
    "max = Post2021_df.loc[(Post2021_df[\"Freedom to make life choices\"] == max_value)]\n",
    "print(max)"
   ]
  },
  {
   "cell_type": "code",
   "execution_count": 60,
   "id": "dd0e1e0f",
   "metadata": {},
   "outputs": [
    {
     "name": "stdout",
     "output_type": "stream",
     "text": [
      "Uzbekistan\n"
     ]
    }
   ],
   "source": [
    "print((max['Country name']).to_string(index=False))"
   ]
  },
  {
   "cell_type": "code",
   "execution_count": 61,
   "id": "dbdbf384",
   "metadata": {},
   "outputs": [
    {
     "name": "stdout",
     "output_type": "stream",
     "text": [
      "0.542\n"
     ]
    }
   ],
   "source": [
    "column = Post2021_df[\"Generosity\"]\n",
    "max_value = column.max()\n",
    "print(max_value)"
   ]
  },
  {
   "cell_type": "code",
   "execution_count": 62,
   "id": "214048a1",
   "metadata": {},
   "outputs": [
    {
     "name": "stdout",
     "output_type": "stream",
     "text": [
      "   Country name  Ladder score  Social support  Healthy life expectancy  \\\n",
      "81    Indonesia         5.345           0.811                   62.236   \n",
      "\n",
      "    Freedom to make life choices  Generosity  \\\n",
      "81                         0.873       0.542   \n",
      "\n",
      "    Explained by: Log GDP per capita  Explained by: Generosity  \\\n",
      "81                             0.954                     0.541   \n",
      "\n",
      "    Explained by: Perceptions of corruption  \n",
      "81                                    0.046  \n"
     ]
    }
   ],
   "source": [
    "max = Post2021_df.loc[(Post2021_df[\"Generosity\"] == max_value)]\n",
    "print(max)"
   ]
  },
  {
   "cell_type": "code",
   "execution_count": 63,
   "id": "82c8ed22",
   "metadata": {},
   "outputs": [
    {
     "name": "stdout",
     "output_type": "stream",
     "text": [
      "Indonesia\n"
     ]
    }
   ],
   "source": [
    "print((max['Country name']).to_string(index=False))"
   ]
  },
  {
   "cell_type": "code",
   "execution_count": 64,
   "id": "2c1f1b78",
   "metadata": {},
   "outputs": [
    {
     "name": "stdout",
     "output_type": "stream",
     "text": [
      "1.751\n"
     ]
    }
   ],
   "source": [
    "column = Post2021_df[\"Explained by: Log GDP per capita\"]\n",
    "max_value = column.max()\n",
    "print(max_value)"
   ]
  },
  {
   "cell_type": "code",
   "execution_count": 65,
   "id": "d39b4121",
   "metadata": {},
   "outputs": [
    {
     "name": "stdout",
     "output_type": "stream",
     "text": [
      "  Country name  Ladder score  Social support  Healthy life expectancy  \\\n",
      "7   Luxembourg         7.324           0.908                     72.6   \n",
      "\n",
      "   Freedom to make life choices  Generosity  Explained by: Log GDP per capita  \\\n",
      "7                         0.907      -0.034                             1.751   \n",
      "\n",
      "   Explained by: Generosity  Explained by: Perceptions of corruption  \n",
      "7                     0.166                                    0.353  \n"
     ]
    }
   ],
   "source": [
    "max = Post2021_df.loc[(Post2021_df[\"Explained by: Log GDP per capita\"] == max_value)]\n",
    "print(max)"
   ]
  },
  {
   "cell_type": "code",
   "execution_count": 66,
   "id": "12c3ed44",
   "metadata": {},
   "outputs": [
    {
     "name": "stdout",
     "output_type": "stream",
     "text": [
      "Luxembourg\n"
     ]
    }
   ],
   "source": [
    "print((max['Country name']).to_string(index=False))"
   ]
  },
  {
   "cell_type": "code",
   "execution_count": 70,
   "id": "0e0de3a4",
   "metadata": {},
   "outputs": [
    {
     "name": "stdout",
     "output_type": "stream",
     "text": [
      "0.541\n"
     ]
    }
   ],
   "source": [
    "column = Post2021_df[\"Explained by: Generosity\"]\n",
    "max_value = column.max()\n",
    "print(max_value)"
   ]
  },
  {
   "cell_type": "code",
   "execution_count": 71,
   "id": "a4480fc0",
   "metadata": {},
   "outputs": [
    {
     "name": "stdout",
     "output_type": "stream",
     "text": [
      "   Country name  Ladder score  Social support  Healthy life expectancy  \\\n",
      "81    Indonesia         5.345           0.811                   62.236   \n",
      "\n",
      "    Freedom to make life choices  Generosity  \\\n",
      "81                         0.873       0.542   \n",
      "\n",
      "    Explained by: Log GDP per capita  Explained by: Generosity  \\\n",
      "81                             0.954                     0.541   \n",
      "\n",
      "    Explained by: Perceptions of corruption  \n",
      "81                                    0.046  \n"
     ]
    }
   ],
   "source": [
    "max = Post2021_df.loc[(Post2021_df[\"Explained by: Generosity\"] == max_value)]\n",
    "print(max)"
   ]
  },
  {
   "cell_type": "code",
   "execution_count": 72,
   "id": "e3ab384f",
   "metadata": {},
   "outputs": [
    {
     "name": "stdout",
     "output_type": "stream",
     "text": [
      "Indonesia\n"
     ]
    }
   ],
   "source": [
    "print((max['Country name']).to_string(index=False))"
   ]
  },
  {
   "cell_type": "code",
   "execution_count": 67,
   "id": "464833f6",
   "metadata": {},
   "outputs": [
    {
     "name": "stdout",
     "output_type": "stream",
     "text": [
      "0.547\n"
     ]
    }
   ],
   "source": [
    "column = Post2021_df[\"Explained by: Perceptions of corruption\"]\n",
    "max_value = column.max()\n",
    "print(max_value)"
   ]
  },
  {
   "cell_type": "code",
   "execution_count": 68,
   "id": "fc69e56e",
   "metadata": {},
   "outputs": [
    {
     "name": "stdout",
     "output_type": "stream",
     "text": [
      "   Country name  Ladder score  Social support  Healthy life expectancy  \\\n",
      "31    Singapore         6.377           0.915                   76.953   \n",
      "\n",
      "    Freedom to make life choices  Generosity  \\\n",
      "31                         0.927      -0.018   \n",
      "\n",
      "    Explained by: Log GDP per capita  Explained by: Generosity  \\\n",
      "31                             1.695                     0.176   \n",
      "\n",
      "    Explained by: Perceptions of corruption  \n",
      "31                                    0.547  \n"
     ]
    }
   ],
   "source": [
    "max = Post2021_df.loc[(Post2021_df[\"Explained by: Perceptions of corruption\"] == max_value)]\n",
    "print(max)"
   ]
  },
  {
   "cell_type": "code",
   "execution_count": 69,
   "id": "3b8099de",
   "metadata": {},
   "outputs": [
    {
     "name": "stdout",
     "output_type": "stream",
     "text": [
      "Singapore\n"
     ]
    }
   ],
   "source": [
    "print((max['Country name']).to_string(index=False))"
   ]
  }
 ],
 "metadata": {
  "kernelspec": {
   "display_name": "PythonData",
   "language": "python",
   "name": "pythondata"
  },
  "language_info": {
   "codemirror_mode": {
    "name": "ipython",
    "version": 3
   },
   "file_extension": ".py",
   "mimetype": "text/x-python",
   "name": "python",
   "nbconvert_exporter": "python",
   "pygments_lexer": "ipython3",
   "version": "3.9.7"
  }
 },
 "nbformat": 4,
 "nbformat_minor": 5
}
