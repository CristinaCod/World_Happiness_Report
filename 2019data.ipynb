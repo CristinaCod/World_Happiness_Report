{
 "cells": [
  {
   "cell_type": "code",
   "execution_count": 1,
   "id": "f659f147",
   "metadata": {},
   "outputs": [],
   "source": [
    "#Import dependencies\n",
    "import pandas as pd\n",
    "import matplotlib.pyplot as plt\n",
    "import numpy as np\n",
    "import seaborn as sns\n",
    "import plotly.express as px\n",
    "import plotly.graph_objs as go\n",
    "from plotly.offline import init_notebook_mode, iplot\n",
    "plt.style.use(\"seaborn-notebook\")"
   ]
  },
  {
   "cell_type": "code",
   "execution_count": 2,
   "id": "c68b3aba",
   "metadata": {
    "scrolled": true
   },
   "outputs": [
    {
     "data": {
      "text/html": [
       "<div>\n",
       "<style scoped>\n",
       "    .dataframe tbody tr th:only-of-type {\n",
       "        vertical-align: middle;\n",
       "    }\n",
       "\n",
       "    .dataframe tbody tr th {\n",
       "        vertical-align: top;\n",
       "    }\n",
       "\n",
       "    .dataframe thead th {\n",
       "        text-align: right;\n",
       "    }\n",
       "</style>\n",
       "<table border=\"1\" class=\"dataframe\">\n",
       "  <thead>\n",
       "    <tr style=\"text-align: right;\">\n",
       "      <th></th>\n",
       "      <th>Overall rank</th>\n",
       "      <th>Country or region</th>\n",
       "      <th>Score</th>\n",
       "      <th>GDP per capita</th>\n",
       "      <th>Social support</th>\n",
       "      <th>Healthy life expectancy</th>\n",
       "      <th>Freedom to make life choices</th>\n",
       "      <th>Generosity</th>\n",
       "      <th>Perceptions of corruption</th>\n",
       "    </tr>\n",
       "  </thead>\n",
       "  <tbody>\n",
       "    <tr>\n",
       "      <th>0</th>\n",
       "      <td>1</td>\n",
       "      <td>Finland</td>\n",
       "      <td>7.769</td>\n",
       "      <td>1.340</td>\n",
       "      <td>1.587</td>\n",
       "      <td>0.986</td>\n",
       "      <td>0.596</td>\n",
       "      <td>0.153</td>\n",
       "      <td>0.393</td>\n",
       "    </tr>\n",
       "    <tr>\n",
       "      <th>1</th>\n",
       "      <td>2</td>\n",
       "      <td>Denmark</td>\n",
       "      <td>7.600</td>\n",
       "      <td>1.383</td>\n",
       "      <td>1.573</td>\n",
       "      <td>0.996</td>\n",
       "      <td>0.592</td>\n",
       "      <td>0.252</td>\n",
       "      <td>0.410</td>\n",
       "    </tr>\n",
       "    <tr>\n",
       "      <th>2</th>\n",
       "      <td>3</td>\n",
       "      <td>Norway</td>\n",
       "      <td>7.554</td>\n",
       "      <td>1.488</td>\n",
       "      <td>1.582</td>\n",
       "      <td>1.028</td>\n",
       "      <td>0.603</td>\n",
       "      <td>0.271</td>\n",
       "      <td>0.341</td>\n",
       "    </tr>\n",
       "    <tr>\n",
       "      <th>3</th>\n",
       "      <td>4</td>\n",
       "      <td>Iceland</td>\n",
       "      <td>7.494</td>\n",
       "      <td>1.380</td>\n",
       "      <td>1.624</td>\n",
       "      <td>1.026</td>\n",
       "      <td>0.591</td>\n",
       "      <td>0.354</td>\n",
       "      <td>0.118</td>\n",
       "    </tr>\n",
       "    <tr>\n",
       "      <th>4</th>\n",
       "      <td>5</td>\n",
       "      <td>Netherlands</td>\n",
       "      <td>7.488</td>\n",
       "      <td>1.396</td>\n",
       "      <td>1.522</td>\n",
       "      <td>0.999</td>\n",
       "      <td>0.557</td>\n",
       "      <td>0.322</td>\n",
       "      <td>0.298</td>\n",
       "    </tr>\n",
       "  </tbody>\n",
       "</table>\n",
       "</div>"
      ],
      "text/plain": [
       "   Overall rank Country or region  Score  GDP per capita  Social support  \\\n",
       "0             1           Finland  7.769           1.340           1.587   \n",
       "1             2           Denmark  7.600           1.383           1.573   \n",
       "2             3            Norway  7.554           1.488           1.582   \n",
       "3             4           Iceland  7.494           1.380           1.624   \n",
       "4             5       Netherlands  7.488           1.396           1.522   \n",
       "\n",
       "   Healthy life expectancy  Freedom to make life choices  Generosity  \\\n",
       "0                    0.986                         0.596       0.153   \n",
       "1                    0.996                         0.592       0.252   \n",
       "2                    1.028                         0.603       0.271   \n",
       "3                    1.026                         0.591       0.354   \n",
       "4                    0.999                         0.557       0.322   \n",
       "\n",
       "   Perceptions of corruption  \n",
       "0                      0.393  \n",
       "1                      0.410  \n",
       "2                      0.341  \n",
       "3                      0.118  \n",
       "4                      0.298  "
      ]
     },
     "execution_count": 2,
     "metadata": {},
     "output_type": "execute_result"
    }
   ],
   "source": [
    "#  Import and read the data\n",
    "precovid_df = pd.read_csv(\"Resources/whr_2019.csv\")\n",
    "precovid_df.head()"
   ]
  },
  {
   "cell_type": "code",
   "execution_count": null,
   "id": "ec3948be",
   "metadata": {},
   "outputs": [],
   "source": []
  },
  {
   "cell_type": "code",
   "execution_count": 3,
   "id": "f69ca1dd",
   "metadata": {},
   "outputs": [
    {
     "data": {
      "text/html": [
       "<div>\n",
       "<style scoped>\n",
       "    .dataframe tbody tr th:only-of-type {\n",
       "        vertical-align: middle;\n",
       "    }\n",
       "\n",
       "    .dataframe tbody tr th {\n",
       "        vertical-align: top;\n",
       "    }\n",
       "\n",
       "    .dataframe thead th {\n",
       "        text-align: right;\n",
       "    }\n",
       "</style>\n",
       "<table border=\"1\" class=\"dataframe\">\n",
       "  <thead>\n",
       "    <tr style=\"text-align: right;\">\n",
       "      <th></th>\n",
       "      <th>Country or region</th>\n",
       "      <th>Score</th>\n",
       "      <th>GDP per capita</th>\n",
       "      <th>Social support</th>\n",
       "      <th>Healthy life expectancy</th>\n",
       "      <th>Freedom to make life choices</th>\n",
       "      <th>Generosity</th>\n",
       "      <th>Perceptions of corruption</th>\n",
       "    </tr>\n",
       "  </thead>\n",
       "  <tbody>\n",
       "    <tr>\n",
       "      <th>0</th>\n",
       "      <td>Finland</td>\n",
       "      <td>7.769</td>\n",
       "      <td>1.340</td>\n",
       "      <td>1.587</td>\n",
       "      <td>0.986</td>\n",
       "      <td>0.596</td>\n",
       "      <td>0.153</td>\n",
       "      <td>0.393</td>\n",
       "    </tr>\n",
       "    <tr>\n",
       "      <th>1</th>\n",
       "      <td>Denmark</td>\n",
       "      <td>7.600</td>\n",
       "      <td>1.383</td>\n",
       "      <td>1.573</td>\n",
       "      <td>0.996</td>\n",
       "      <td>0.592</td>\n",
       "      <td>0.252</td>\n",
       "      <td>0.410</td>\n",
       "    </tr>\n",
       "    <tr>\n",
       "      <th>2</th>\n",
       "      <td>Norway</td>\n",
       "      <td>7.554</td>\n",
       "      <td>1.488</td>\n",
       "      <td>1.582</td>\n",
       "      <td>1.028</td>\n",
       "      <td>0.603</td>\n",
       "      <td>0.271</td>\n",
       "      <td>0.341</td>\n",
       "    </tr>\n",
       "    <tr>\n",
       "      <th>3</th>\n",
       "      <td>Iceland</td>\n",
       "      <td>7.494</td>\n",
       "      <td>1.380</td>\n",
       "      <td>1.624</td>\n",
       "      <td>1.026</td>\n",
       "      <td>0.591</td>\n",
       "      <td>0.354</td>\n",
       "      <td>0.118</td>\n",
       "    </tr>\n",
       "    <tr>\n",
       "      <th>4</th>\n",
       "      <td>Netherlands</td>\n",
       "      <td>7.488</td>\n",
       "      <td>1.396</td>\n",
       "      <td>1.522</td>\n",
       "      <td>0.999</td>\n",
       "      <td>0.557</td>\n",
       "      <td>0.322</td>\n",
       "      <td>0.298</td>\n",
       "    </tr>\n",
       "  </tbody>\n",
       "</table>\n",
       "</div>"
      ],
      "text/plain": [
       "  Country or region  Score  GDP per capita  Social support  \\\n",
       "0           Finland  7.769           1.340           1.587   \n",
       "1           Denmark  7.600           1.383           1.573   \n",
       "2            Norway  7.554           1.488           1.582   \n",
       "3           Iceland  7.494           1.380           1.624   \n",
       "4       Netherlands  7.488           1.396           1.522   \n",
       "\n",
       "   Healthy life expectancy  Freedom to make life choices  Generosity  \\\n",
       "0                    0.986                         0.596       0.153   \n",
       "1                    0.996                         0.592       0.252   \n",
       "2                    1.028                         0.603       0.271   \n",
       "3                    1.026                         0.591       0.354   \n",
       "4                    0.999                         0.557       0.322   \n",
       "\n",
       "   Perceptions of corruption  \n",
       "0                      0.393  \n",
       "1                      0.410  \n",
       "2                      0.341  \n",
       "3                      0.118  \n",
       "4                      0.298  "
      ]
     },
     "execution_count": 3,
     "metadata": {},
     "output_type": "execute_result"
    }
   ],
   "source": [
    "# Drop the non-beneficial ID columns\n",
    "precovid_df = precovid_df.drop(columns=[\"Overall rank\"], axis=1)\n",
    "precovid_df.head()"
   ]
  },
  {
   "cell_type": "code",
   "execution_count": 4,
   "id": "23a619f3",
   "metadata": {},
   "outputs": [
    {
     "name": "stdout",
     "output_type": "stream",
     "text": [
      "7.769\n"
     ]
    }
   ],
   "source": [
    "column = precovid_df[\"Score\"]\n",
    "max_value = column.max()\n",
    "print(max_value)"
   ]
  },
  {
   "cell_type": "code",
   "execution_count": 5,
   "id": "020501d8",
   "metadata": {},
   "outputs": [
    {
     "name": "stdout",
     "output_type": "stream",
     "text": [
      "  Country or region  Score  GDP per capita  Social support  \\\n",
      "0           Finland  7.769            1.34           1.587   \n",
      "\n",
      "   Healthy life expectancy  Freedom to make life choices  Generosity  \\\n",
      "0                    0.986                         0.596       0.153   \n",
      "\n",
      "   Perceptions of corruption  \n",
      "0                      0.393  \n"
     ]
    }
   ],
   "source": [
    "max = precovid_df.loc[(precovid_df[\"Score\"] == max_value)]\n",
    "print(max)"
   ]
  },
  {
   "cell_type": "code",
   "execution_count": 6,
   "id": "7a07018a",
   "metadata": {},
   "outputs": [],
   "source": [
    "#print(f\"The happiest country in the world is: {},  with a Score of:{max_value}\")"
   ]
  },
  {
   "cell_type": "code",
   "execution_count": 7,
   "id": "93051224",
   "metadata": {},
   "outputs": [
    {
     "name": "stdout",
     "output_type": "stream",
     "text": [
      "The happiest country in the world is: Finland, with a Score of:7.769\n"
     ]
    }
   ],
   "source": [
    "print(f\"The happiest country in the world is: {(max['Country or region']).to_string(index=False)}, with a Score of:{max_value}\")"
   ]
  },
  {
   "cell_type": "code",
   "execution_count": 8,
   "id": "0fc13e29",
   "metadata": {},
   "outputs": [
    {
     "data": {
      "text/html": [
       "<div>\n",
       "<style scoped>\n",
       "    .dataframe tbody tr th:only-of-type {\n",
       "        vertical-align: middle;\n",
       "    }\n",
       "\n",
       "    .dataframe tbody tr th {\n",
       "        vertical-align: top;\n",
       "    }\n",
       "\n",
       "    .dataframe thead th {\n",
       "        text-align: right;\n",
       "    }\n",
       "</style>\n",
       "<table border=\"1\" class=\"dataframe\">\n",
       "  <thead>\n",
       "    <tr style=\"text-align: right;\">\n",
       "      <th></th>\n",
       "      <th>Country or region</th>\n",
       "      <th>Score</th>\n",
       "    </tr>\n",
       "  </thead>\n",
       "  <tbody>\n",
       "    <tr>\n",
       "      <th>43</th>\n",
       "      <td>Finland</td>\n",
       "      <td>7.769</td>\n",
       "    </tr>\n",
       "    <tr>\n",
       "      <th>36</th>\n",
       "      <td>Denmark</td>\n",
       "      <td>7.600</td>\n",
       "    </tr>\n",
       "    <tr>\n",
       "      <th>105</th>\n",
       "      <td>Norway</td>\n",
       "      <td>7.554</td>\n",
       "    </tr>\n",
       "    <tr>\n",
       "      <th>57</th>\n",
       "      <td>Iceland</td>\n",
       "      <td>7.494</td>\n",
       "    </tr>\n",
       "    <tr>\n",
       "      <th>98</th>\n",
       "      <td>Netherlands</td>\n",
       "      <td>7.488</td>\n",
       "    </tr>\n",
       "    <tr>\n",
       "      <th>133</th>\n",
       "      <td>Switzerland</td>\n",
       "      <td>7.480</td>\n",
       "    </tr>\n",
       "    <tr>\n",
       "      <th>132</th>\n",
       "      <td>Sweden</td>\n",
       "      <td>7.343</td>\n",
       "    </tr>\n",
       "    <tr>\n",
       "      <th>99</th>\n",
       "      <td>New Zealand</td>\n",
       "      <td>7.307</td>\n",
       "    </tr>\n",
       "    <tr>\n",
       "      <th>23</th>\n",
       "      <td>Canada</td>\n",
       "      <td>7.278</td>\n",
       "    </tr>\n",
       "    <tr>\n",
       "      <th>6</th>\n",
       "      <td>Austria</td>\n",
       "      <td>7.246</td>\n",
       "    </tr>\n",
       "  </tbody>\n",
       "</table>\n",
       "</div>"
      ],
      "text/plain": [
       "    Country or region  Score\n",
       "43            Finland  7.769\n",
       "36            Denmark  7.600\n",
       "105            Norway  7.554\n",
       "57            Iceland  7.494\n",
       "98        Netherlands  7.488\n",
       "133       Switzerland  7.480\n",
       "132            Sweden  7.343\n",
       "99        New Zealand  7.307\n",
       "23             Canada  7.278\n",
       "6             Austria  7.246"
      ]
     },
     "execution_count": 8,
     "metadata": {},
     "output_type": "execute_result"
    }
   ],
   "source": [
    "country_score_avg = precovid_df.groupby(by = ['Country or region'])['Score'].mean().reset_index()\n",
    "table = country_score_avg.sort_values(by = 'Score', ascending = False).head(10)\n",
    "\n",
    "table"
   ]
  },
  {
   "cell_type": "code",
   "execution_count": 9,
   "id": "91da1246",
   "metadata": {},
   "outputs": [
    {
     "data": {
      "image/png": "[encoded data removed]",
      "text/plain": [
       "<Figure size 1152x648 with 1 Axes>"
      ]
     },
     "metadata": {
      "needs_background": "light"
     },
     "output_type": "display_data"
    }
   ],
   "source": [
    "plt.figure(figsize = (16, 9))\n",
    "sns.barplot(y = table['Country or region'], x = table['Score'])\n",
    "\n",
    "plt.title(\"Top 10 Happiest Countries in 2019\", fontsize = 25)\n",
    "plt.xlabel(\"Happiness Score\", fontsize = 20)\n",
    "plt.ylabel(\"Country\", fontsize = 20)\n",
    "plt.xticks(fontsize = 15)\n",
    "plt.yticks(fontsize = 15);"
   ]
  },
  {
   "cell_type": "code",
   "execution_count": 10,
   "id": "085c0b19",
   "metadata": {},
   "outputs": [
    {
     "name": "stdout",
     "output_type": "stream",
     "text": [
      "1.684\n"
     ]
    }
   ],
   "source": [
    "column1 = precovid_df[\"GDP per capita\"]\n",
    "max_value = column1.max()\n",
    "print(max_value)"
   ]
  },
  {
   "cell_type": "code",
   "execution_count": 11,
   "id": "3c7b78aa",
   "metadata": {},
   "outputs": [
    {
     "data": {
      "text/html": [
       "<div>\n",
       "<style scoped>\n",
       "    .dataframe tbody tr th:only-of-type {\n",
       "        vertical-align: middle;\n",
       "    }\n",
       "\n",
       "    .dataframe tbody tr th {\n",
       "        vertical-align: top;\n",
       "    }\n",
       "\n",
       "    .dataframe thead th {\n",
       "        text-align: right;\n",
       "    }\n",
       "</style>\n",
       "<table border=\"1\" class=\"dataframe\">\n",
       "  <thead>\n",
       "    <tr style=\"text-align: right;\">\n",
       "      <th></th>\n",
       "      <th>Country or region</th>\n",
       "      <th>Score</th>\n",
       "      <th>GDP per capita</th>\n",
       "      <th>Social support</th>\n",
       "      <th>Healthy life expectancy</th>\n",
       "      <th>Freedom to make life choices</th>\n",
       "      <th>Generosity</th>\n",
       "      <th>Perceptions of corruption</th>\n",
       "    </tr>\n",
       "  </thead>\n",
       "  <tbody>\n",
       "    <tr>\n",
       "      <th>28</th>\n",
       "      <td>Qatar</td>\n",
       "      <td>6.374</td>\n",
       "      <td>1.684</td>\n",
       "      <td>1.313</td>\n",
       "      <td>0.871</td>\n",
       "      <td>0.555</td>\n",
       "      <td>0.22</td>\n",
       "      <td>0.167</td>\n",
       "    </tr>\n",
       "  </tbody>\n",
       "</table>\n",
       "</div>"
      ],
      "text/plain": [
       "   Country or region  Score  GDP per capita  Social support  \\\n",
       "28             Qatar  6.374           1.684           1.313   \n",
       "\n",
       "    Healthy life expectancy  Freedom to make life choices  Generosity  \\\n",
       "28                    0.871                         0.555        0.22   \n",
       "\n",
       "    Perceptions of corruption  \n",
       "28                      0.167  "
      ]
     },
     "execution_count": 11,
     "metadata": {},
     "output_type": "execute_result"
    }
   ],
   "source": [
    "max = precovid_df.loc[(precovid_df[\"GDP per capita\"] == max_value)]\n",
    "max"
   ]
  },
  {
   "cell_type": "code",
   "execution_count": 12,
   "id": "4729eea6",
   "metadata": {},
   "outputs": [
    {
     "name": "stdout",
     "output_type": "stream",
     "text": [
      "The country where GDP per capita influences happiness the most is: Qatar, with a Score of:1.684\n"
     ]
    }
   ],
   "source": [
    "print(f\"The country where GDP per capita influences happiness the most is: {(max['Country or region']).to_string(index=False)}, with a Score of:{max_value}\")"
   ]
  },
  {
   "cell_type": "code",
   "execution_count": 13,
   "id": "0d253055",
   "metadata": {},
   "outputs": [
    {
     "name": "stdout",
     "output_type": "stream",
     "text": [
      "1.624\n"
     ]
    }
   ],
   "source": [
    "column2 = precovid_df[\"Social support\"]\n",
    "max_value = column2.max()\n",
    "print(max_value)"
   ]
  },
  {
   "cell_type": "code",
   "execution_count": 14,
   "id": "e43a6469",
   "metadata": {},
   "outputs": [
    {
     "data": {
      "text/html": [
       "<div>\n",
       "<style scoped>\n",
       "    .dataframe tbody tr th:only-of-type {\n",
       "        vertical-align: middle;\n",
       "    }\n",
       "\n",
       "    .dataframe tbody tr th {\n",
       "        vertical-align: top;\n",
       "    }\n",
       "\n",
       "    .dataframe thead th {\n",
       "        text-align: right;\n",
       "    }\n",
       "</style>\n",
       "<table border=\"1\" class=\"dataframe\">\n",
       "  <thead>\n",
       "    <tr style=\"text-align: right;\">\n",
       "      <th></th>\n",
       "      <th>Country or region</th>\n",
       "      <th>Score</th>\n",
       "      <th>GDP per capita</th>\n",
       "      <th>Social support</th>\n",
       "      <th>Healthy life expectancy</th>\n",
       "      <th>Freedom to make life choices</th>\n",
       "      <th>Generosity</th>\n",
       "      <th>Perceptions of corruption</th>\n",
       "    </tr>\n",
       "  </thead>\n",
       "  <tbody>\n",
       "    <tr>\n",
       "      <th>3</th>\n",
       "      <td>Iceland</td>\n",
       "      <td>7.494</td>\n",
       "      <td>1.38</td>\n",
       "      <td>1.624</td>\n",
       "      <td>1.026</td>\n",
       "      <td>0.591</td>\n",
       "      <td>0.354</td>\n",
       "      <td>0.118</td>\n",
       "    </tr>\n",
       "  </tbody>\n",
       "</table>\n",
       "</div>"
      ],
      "text/plain": [
       "  Country or region  Score  GDP per capita  Social support  \\\n",
       "3           Iceland  7.494            1.38           1.624   \n",
       "\n",
       "   Healthy life expectancy  Freedom to make life choices  Generosity  \\\n",
       "3                    1.026                         0.591       0.354   \n",
       "\n",
       "   Perceptions of corruption  \n",
       "3                      0.118  "
      ]
     },
     "execution_count": 14,
     "metadata": {},
     "output_type": "execute_result"
    }
   ],
   "source": [
    "max = precovid_df.loc[(precovid_df[\"Social support\"] == max_value)]\n",
    "max"
   ]
  },
  {
   "cell_type": "code",
   "execution_count": 15,
   "id": "c2b5a704",
   "metadata": {},
   "outputs": [
    {
     "name": "stdout",
     "output_type": "stream",
     "text": [
      "The country where social support influences happiness the most is: Iceland, with a Score of:1.624\n"
     ]
    }
   ],
   "source": [
    "print(f\"The country where social support influences happiness the most is: {(max['Country or region']).to_string(index=False)}, with a Score of:{max_value}\")"
   ]
  },
  {
   "cell_type": "code",
   "execution_count": 16,
   "id": "e1fb9e91",
   "metadata": {},
   "outputs": [
    {
     "name": "stdout",
     "output_type": "stream",
     "text": [
      "1.141\n"
     ]
    }
   ],
   "source": [
    "column3 = precovid_df[\"Healthy life expectancy\"]\n",
    "max_value = column3.max()\n",
    "print(max_value)"
   ]
  },
  {
   "cell_type": "code",
   "execution_count": 17,
   "id": "3e12cc22",
   "metadata": {},
   "outputs": [
    {
     "data": {
      "text/html": [
       "<div>\n",
       "<style scoped>\n",
       "    .dataframe tbody tr th:only-of-type {\n",
       "        vertical-align: middle;\n",
       "    }\n",
       "\n",
       "    .dataframe tbody tr th {\n",
       "        vertical-align: top;\n",
       "    }\n",
       "\n",
       "    .dataframe thead th {\n",
       "        text-align: right;\n",
       "    }\n",
       "</style>\n",
       "<table border=\"1\" class=\"dataframe\">\n",
       "  <thead>\n",
       "    <tr style=\"text-align: right;\">\n",
       "      <th></th>\n",
       "      <th>Country or region</th>\n",
       "      <th>Score</th>\n",
       "      <th>GDP per capita</th>\n",
       "      <th>Social support</th>\n",
       "      <th>Healthy life expectancy</th>\n",
       "      <th>Freedom to make life choices</th>\n",
       "      <th>Generosity</th>\n",
       "      <th>Perceptions of corruption</th>\n",
       "    </tr>\n",
       "  </thead>\n",
       "  <tbody>\n",
       "    <tr>\n",
       "      <th>33</th>\n",
       "      <td>Singapore</td>\n",
       "      <td>6.262</td>\n",
       "      <td>1.572</td>\n",
       "      <td>1.463</td>\n",
       "      <td>1.141</td>\n",
       "      <td>0.556</td>\n",
       "      <td>0.271</td>\n",
       "      <td>0.453</td>\n",
       "    </tr>\n",
       "  </tbody>\n",
       "</table>\n",
       "</div>"
      ],
      "text/plain": [
       "   Country or region  Score  GDP per capita  Social support  \\\n",
       "33         Singapore  6.262           1.572           1.463   \n",
       "\n",
       "    Healthy life expectancy  Freedom to make life choices  Generosity  \\\n",
       "33                    1.141                         0.556       0.271   \n",
       "\n",
       "    Perceptions of corruption  \n",
       "33                      0.453  "
      ]
     },
     "execution_count": 17,
     "metadata": {},
     "output_type": "execute_result"
    }
   ],
   "source": [
    "max = precovid_df.loc[(precovid_df[\"Healthy life expectancy\"] == max_value)]\n",
    "max"
   ]
  },
  {
   "cell_type": "code",
   "execution_count": 18,
   "id": "6727a31a",
   "metadata": {},
   "outputs": [
    {
     "name": "stdout",
     "output_type": "stream",
     "text": [
      "The country where healthy life expectancy influences happiness the most is: Singapore, with a Score of:1.141\n"
     ]
    }
   ],
   "source": [
    "print(f\"The country where healthy life expectancy influences happiness the most is: {(max['Country or region']).to_string(index=False)}, with a Score of:{max_value}\")"
   ]
  },
  {
   "cell_type": "code",
   "execution_count": 19,
   "id": "c094c3e0",
   "metadata": {},
   "outputs": [
    {
     "name": "stdout",
     "output_type": "stream",
     "text": [
      "0.631\n"
     ]
    }
   ],
   "source": [
    "column4 = precovid_df[\"Freedom to make life choices\"]\n",
    "max_value = column4.max()\n",
    "print(max_value)"
   ]
  },
  {
   "cell_type": "code",
   "execution_count": 20,
   "id": "2a9c046d",
   "metadata": {},
   "outputs": [
    {
     "data": {
      "text/html": [
       "<div>\n",
       "<style scoped>\n",
       "    .dataframe tbody tr th:only-of-type {\n",
       "        vertical-align: middle;\n",
       "    }\n",
       "\n",
       "    .dataframe tbody tr th {\n",
       "        vertical-align: top;\n",
       "    }\n",
       "\n",
       "    .dataframe thead th {\n",
       "        text-align: right;\n",
       "    }\n",
       "</style>\n",
       "<table border=\"1\" class=\"dataframe\">\n",
       "  <thead>\n",
       "    <tr style=\"text-align: right;\">\n",
       "      <th></th>\n",
       "      <th>Country or region</th>\n",
       "      <th>Score</th>\n",
       "      <th>GDP per capita</th>\n",
       "      <th>Social support</th>\n",
       "      <th>Healthy life expectancy</th>\n",
       "      <th>Freedom to make life choices</th>\n",
       "      <th>Generosity</th>\n",
       "      <th>Perceptions of corruption</th>\n",
       "    </tr>\n",
       "  </thead>\n",
       "  <tbody>\n",
       "    <tr>\n",
       "      <th>40</th>\n",
       "      <td>Uzbekistan</td>\n",
       "      <td>6.174</td>\n",
       "      <td>0.745</td>\n",
       "      <td>1.529</td>\n",
       "      <td>0.756</td>\n",
       "      <td>0.631</td>\n",
       "      <td>0.322</td>\n",
       "      <td>0.24</td>\n",
       "    </tr>\n",
       "  </tbody>\n",
       "</table>\n",
       "</div>"
      ],
      "text/plain": [
       "   Country or region  Score  GDP per capita  Social support  \\\n",
       "40        Uzbekistan  6.174           0.745           1.529   \n",
       "\n",
       "    Healthy life expectancy  Freedom to make life choices  Generosity  \\\n",
       "40                    0.756                         0.631       0.322   \n",
       "\n",
       "    Perceptions of corruption  \n",
       "40                       0.24  "
      ]
     },
     "execution_count": 20,
     "metadata": {},
     "output_type": "execute_result"
    }
   ],
   "source": [
    "max = precovid_df.loc[(precovid_df[\"Freedom to make life choices\"] == max_value)]\n",
    "max"
   ]
  },
  {
   "cell_type": "code",
   "execution_count": 21,
   "id": "fefa0674",
   "metadata": {},
   "outputs": [
    {
     "name": "stdout",
     "output_type": "stream",
     "text": [
      "The country where freedom to make life choices influences happiness the most is: Uzbekistan, with a Score of:0.631\n"
     ]
    }
   ],
   "source": [
    "print(f\"The country where freedom to make life choices influences happiness the most is: {(max['Country or region']).to_string(index=False)}, with a Score of:{max_value}\")"
   ]
  },
  {
   "cell_type": "code",
   "execution_count": 22,
   "id": "b84fd82b",
   "metadata": {},
   "outputs": [
    {
     "name": "stdout",
     "output_type": "stream",
     "text": [
      "0.566\n"
     ]
    }
   ],
   "source": [
    "column5 = precovid_df[\"Generosity\"]\n",
    "max_value = column5.max()\n",
    "print(max_value)"
   ]
  },
  {
   "cell_type": "code",
   "execution_count": 23,
   "id": "89109288",
   "metadata": {},
   "outputs": [
    {
     "data": {
      "text/html": [
       "<div>\n",
       "<style scoped>\n",
       "    .dataframe tbody tr th:only-of-type {\n",
       "        vertical-align: middle;\n",
       "    }\n",
       "\n",
       "    .dataframe tbody tr th {\n",
       "        vertical-align: top;\n",
       "    }\n",
       "\n",
       "    .dataframe thead th {\n",
       "        text-align: right;\n",
       "    }\n",
       "</style>\n",
       "<table border=\"1\" class=\"dataframe\">\n",
       "  <thead>\n",
       "    <tr style=\"text-align: right;\">\n",
       "      <th></th>\n",
       "      <th>Country or region</th>\n",
       "      <th>Score</th>\n",
       "      <th>GDP per capita</th>\n",
       "      <th>Social support</th>\n",
       "      <th>Healthy life expectancy</th>\n",
       "      <th>Freedom to make life choices</th>\n",
       "      <th>Generosity</th>\n",
       "      <th>Perceptions of corruption</th>\n",
       "    </tr>\n",
       "  </thead>\n",
       "  <tbody>\n",
       "    <tr>\n",
       "      <th>130</th>\n",
       "      <td>Myanmar</td>\n",
       "      <td>4.36</td>\n",
       "      <td>0.71</td>\n",
       "      <td>1.181</td>\n",
       "      <td>0.555</td>\n",
       "      <td>0.525</td>\n",
       "      <td>0.566</td>\n",
       "      <td>0.172</td>\n",
       "    </tr>\n",
       "  </tbody>\n",
       "</table>\n",
       "</div>"
      ],
      "text/plain": [
       "    Country or region  Score  GDP per capita  Social support  \\\n",
       "130           Myanmar   4.36            0.71           1.181   \n",
       "\n",
       "     Healthy life expectancy  Freedom to make life choices  Generosity  \\\n",
       "130                    0.555                         0.525       0.566   \n",
       "\n",
       "     Perceptions of corruption  \n",
       "130                      0.172  "
      ]
     },
     "execution_count": 23,
     "metadata": {},
     "output_type": "execute_result"
    }
   ],
   "source": [
    "max = precovid_df.loc[(precovid_df[\"Generosity\"] == max_value)]\n",
    "max"
   ]
  },
  {
   "cell_type": "code",
   "execution_count": 24,
   "id": "6b28e2ff",
   "metadata": {},
   "outputs": [
    {
     "name": "stdout",
     "output_type": "stream",
     "text": [
      "The country where generosity influences happiness the most is: Myanmar, with a Score of:0.566\n"
     ]
    }
   ],
   "source": [
    "print(f\"The country where generosity influences happiness the most is: {(max['Country or region']).to_string(index=False)}, with a Score of:{max_value}\")"
   ]
  },
  {
   "cell_type": "code",
   "execution_count": 25,
   "id": "f96e4d1b",
   "metadata": {},
   "outputs": [
    {
     "name": "stdout",
     "output_type": "stream",
     "text": [
      "0.453\n"
     ]
    }
   ],
   "source": [
    "column6 = precovid_df[\"Perceptions of corruption\"]\n",
    "max_value = column6.max()\n",
    "print(max_value)"
   ]
  },
  {
   "cell_type": "code",
   "execution_count": 26,
   "id": "28fb7ee6",
   "metadata": {},
   "outputs": [
    {
     "data": {
      "text/html": [
       "<div>\n",
       "<style scoped>\n",
       "    .dataframe tbody tr th:only-of-type {\n",
       "        vertical-align: middle;\n",
       "    }\n",
       "\n",
       "    .dataframe tbody tr th {\n",
       "        vertical-align: top;\n",
       "    }\n",
       "\n",
       "    .dataframe thead th {\n",
       "        text-align: right;\n",
       "    }\n",
       "</style>\n",
       "<table border=\"1\" class=\"dataframe\">\n",
       "  <thead>\n",
       "    <tr style=\"text-align: right;\">\n",
       "      <th></th>\n",
       "      <th>Country or region</th>\n",
       "      <th>Score</th>\n",
       "      <th>GDP per capita</th>\n",
       "      <th>Social support</th>\n",
       "      <th>Healthy life expectancy</th>\n",
       "      <th>Freedom to make life choices</th>\n",
       "      <th>Generosity</th>\n",
       "      <th>Perceptions of corruption</th>\n",
       "    </tr>\n",
       "  </thead>\n",
       "  <tbody>\n",
       "    <tr>\n",
       "      <th>33</th>\n",
       "      <td>Singapore</td>\n",
       "      <td>6.262</td>\n",
       "      <td>1.572</td>\n",
       "      <td>1.463</td>\n",
       "      <td>1.141</td>\n",
       "      <td>0.556</td>\n",
       "      <td>0.271</td>\n",
       "      <td>0.453</td>\n",
       "    </tr>\n",
       "  </tbody>\n",
       "</table>\n",
       "</div>"
      ],
      "text/plain": [
       "   Country or region  Score  GDP per capita  Social support  \\\n",
       "33         Singapore  6.262           1.572           1.463   \n",
       "\n",
       "    Healthy life expectancy  Freedom to make life choices  Generosity  \\\n",
       "33                    1.141                         0.556       0.271   \n",
       "\n",
       "    Perceptions of corruption  \n",
       "33                      0.453  "
      ]
     },
     "execution_count": 26,
     "metadata": {},
     "output_type": "execute_result"
    }
   ],
   "source": [
    "max = precovid_df.loc[(precovid_df[\"Perceptions of corruption\"] == max_value)]\n",
    "max"
   ]
  },
  {
   "cell_type": "code",
   "execution_count": 27,
   "id": "78da26b8",
   "metadata": {},
   "outputs": [
    {
     "name": "stdout",
     "output_type": "stream",
     "text": [
      "The country where perceptions of corruption influences happiness the most is: Singapore, with a Score of:0.453\n"
     ]
    }
   ],
   "source": [
    "print(f\"The country where perceptions of corruption influences happiness the most is: {(max['Country or region']).to_string(index=False)}, with a Score of:{max_value}\")"
   ]
  },
  {
   "cell_type": "code",
   "execution_count": 28,
   "id": "e6570b24",
   "metadata": {},
   "outputs": [
    {
     "data": {
      "text/html": [
       "<div>\n",
       "<style scoped>\n",
       "    .dataframe tbody tr th:only-of-type {\n",
       "        vertical-align: middle;\n",
       "    }\n",
       "\n",
       "    .dataframe tbody tr th {\n",
       "        vertical-align: top;\n",
       "    }\n",
       "\n",
       "    .dataframe thead th {\n",
       "        text-align: right;\n",
       "    }\n",
       "</style>\n",
       "<table border=\"1\" class=\"dataframe\">\n",
       "  <thead>\n",
       "    <tr style=\"text-align: right;\">\n",
       "      <th></th>\n",
       "      <th>Country or region</th>\n",
       "      <th>Score</th>\n",
       "    </tr>\n",
       "  </thead>\n",
       "  <tbody>\n",
       "    <tr>\n",
       "      <th>128</th>\n",
       "      <td>South Sudan</td>\n",
       "      <td>2.853</td>\n",
       "    </tr>\n",
       "    <tr>\n",
       "      <th>24</th>\n",
       "      <td>Central African Republic</td>\n",
       "      <td>3.083</td>\n",
       "    </tr>\n",
       "    <tr>\n",
       "      <th>0</th>\n",
       "      <td>Afghanistan</td>\n",
       "      <td>3.203</td>\n",
       "    </tr>\n",
       "    <tr>\n",
       "      <th>137</th>\n",
       "      <td>Tanzania</td>\n",
       "      <td>3.231</td>\n",
       "    </tr>\n",
       "    <tr>\n",
       "      <th>117</th>\n",
       "      <td>Rwanda</td>\n",
       "      <td>3.334</td>\n",
       "    </tr>\n",
       "    <tr>\n",
       "      <th>153</th>\n",
       "      <td>Yemen</td>\n",
       "      <td>3.380</td>\n",
       "    </tr>\n",
       "    <tr>\n",
       "      <th>83</th>\n",
       "      <td>Malawi</td>\n",
       "      <td>3.410</td>\n",
       "    </tr>\n",
       "    <tr>\n",
       "      <th>134</th>\n",
       "      <td>Syria</td>\n",
       "      <td>3.462</td>\n",
       "    </tr>\n",
       "    <tr>\n",
       "      <th>16</th>\n",
       "      <td>Botswana</td>\n",
       "      <td>3.488</td>\n",
       "    </tr>\n",
       "    <tr>\n",
       "      <th>53</th>\n",
       "      <td>Haiti</td>\n",
       "      <td>3.597</td>\n",
       "    </tr>\n",
       "  </tbody>\n",
       "</table>\n",
       "</div>"
      ],
      "text/plain": [
       "            Country or region  Score\n",
       "128               South Sudan  2.853\n",
       "24   Central African Republic  3.083\n",
       "0                 Afghanistan  3.203\n",
       "137                  Tanzania  3.231\n",
       "117                    Rwanda  3.334\n",
       "153                     Yemen  3.380\n",
       "83                     Malawi  3.410\n",
       "134                     Syria  3.462\n",
       "16                   Botswana  3.488\n",
       "53                      Haiti  3.597"
      ]
     },
     "execution_count": 28,
     "metadata": {},
     "output_type": "execute_result"
    }
   ],
   "source": [
    "table2 = country_score_avg.sort_values(by = 'Score', ascending = True).head(10)\n",
    "\n",
    "table2"
   ]
  },
  {
   "cell_type": "code",
   "execution_count": 29,
   "id": "905289c2",
   "metadata": {},
   "outputs": [
    {
     "data": {
      "image/png": "[encoded data removed]",
      "text/plain": [
       "<Figure size 1152x648 with 1 Axes>"
      ]
     },
     "metadata": {
      "needs_background": "light"
     },
     "output_type": "display_data"
    }
   ],
   "source": [
    "plt.figure(figsize = (16, 9))\n",
    "sns.barplot(y = table2['Country or region'], x = table2['Score'])\n",
    "\n",
    "plt.title(\"Top 10 Least Happy Countries in 2019\", fontsize = 25)\n",
    "plt.xlabel(\"Happiness Score\", fontsize = 20)\n",
    "plt.ylabel(\"Country\", fontsize = 20)\n",
    "plt.xticks(fontsize = 15)\n",
    "plt.yticks(fontsize = 15);"
   ]
  },
  {
   "cell_type": "code",
   "execution_count": 35,
   "id": "bc9db015",
   "metadata": {},
   "outputs": [
    {
     "data": {
      "image/png": "[encoded data removed]",
      "text/plain": [
       "<Figure size 1152x648 with 1 Axes>"
      ]
     },
     "metadata": {
      "needs_background": "light"
     },
     "output_type": "display_data"
    }
   ],
   "source": [
    "country_factors_avg = precovid_df.groupby(by = ['Country or region'])[['GDP per capita',\n",
    "       'Social support', 'Healthy life expectancy', 'Freedom to make life choices', 'Generosity',\n",
    "       'Perceptions of corruption']].mean().reset_index()\n",
    "\n",
    "plt.figure(figsize = (16, 9))\n",
    "\n",
    "sns.kdeplot(data = country_factors_avg['GDP per capita'], color = \"#B77AFF\", shade = True)\n",
    "sns.kdeplot(data = country_factors_avg['Social support'], color = \"#FD7AFF\", shade = True)\n",
    "sns.kdeplot(data = country_factors_avg['Healthy life expectancy'], color = \"#FFB27A\", shade = True)\n",
    "sns.kdeplot(data = country_factors_avg['Freedom to make life choices'], color = \"#A9FF7A\", shade = True)\n",
    "sns.kdeplot(data = country_factors_avg['Generosity'], color = \"#7AFFD4\", shade = True)\n",
    "sns.kdeplot(data = country_factors_avg['Perceptions of corruption'], color = \"#FF7A7A\", shade = True)\n",
    "\n",
    "plt.xlabel('Factors Score', fontsize = 20)\n",
    "plt.title('Distribution of Factors Average Score 2019', fontsize = 25)\n",
    "plt.xticks(fontsize = 15)\n",
    "plt.yticks(fontsize = 15)\n",
    "plt.xlim((-0.5, 2.3))\n",
    "plt.legend(labels=['GDP per capita','Social support','Healthy life expectancy','Freedom to make life choices','Generosity','Perceptions of corruption'], fontsize = 15);"
   ]
  },
  {
   "cell_type": "code",
   "execution_count": 33,
   "id": "9a9903d5",
   "metadata": {},
   "outputs": [
    {
     "data": {
      "image/png": "[encoded data removed]",
      "text/plain": [
       "<Figure size 1296x1296 with 2 Axes>"
      ]
     },
     "metadata": {
      "needs_background": "light"
     },
     "output_type": "display_data"
    }
   ],
   "source": [
    "f,ax = plt.subplots(figsize=(18, 18))\n",
    "sns.heatmap(precovid_df.corr(), annot=True, linewidths=.5, fmt= '.1f',ax=ax)\n",
    "plt.show()"
   ]
  },
  {
   "cell_type": "code",
   "execution_count": null,
   "id": "b7f0b363",
   "metadata": {},
   "outputs": [],
   "source": []
  }
 ],
 "metadata": {
  "kernelspec": {
   "display_name": "mlenv",
   "language": "python",
   "name": "mlenv"
  },
  "language_info": {
   "codemirror_mode": {
    "name": "ipython",
    "version": 3
   },
   "file_extension": ".py",
   "mimetype": "text/x-python",
   "name": "python",
   "nbconvert_exporter": "python",
   "pygments_lexer": "ipython3",
   "version": "3.7.11"
  }
 },
 "nbformat": 4,
 "nbformat_minor": 5
}
