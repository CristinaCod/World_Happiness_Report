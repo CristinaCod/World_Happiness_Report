{
 "cells": [
  {
   "cell_type": "code",
   "execution_count": 54,
   "id": "d16f0fe9",
   "metadata": {},
   "outputs": [],
   "source": [
    "import pandas as pd\n",
    "import pandas as pd\n",
    "import plotly.express as px\n",
    "import hvplot.pandas\n",
    "from sklearn.linear_model import LinearRegression"
   ]
  },
  {
   "cell_type": "code",
   "execution_count": 55,
   "id": "d0d167ea",
   "metadata": {},
   "outputs": [
    {
     "data": {
      "text/html": [
       "<div>\n",
       "<style scoped>\n",
       "    .dataframe tbody tr th:only-of-type {\n",
       "        vertical-align: middle;\n",
       "    }\n",
       "\n",
       "    .dataframe tbody tr th {\n",
       "        vertical-align: top;\n",
       "    }\n",
       "\n",
       "    .dataframe thead th {\n",
       "        text-align: right;\n",
       "    }\n",
       "</style>\n",
       "<table border=\"1\" class=\"dataframe\">\n",
       "  <thead>\n",
       "    <tr style=\"text-align: right;\">\n",
       "      <th></th>\n",
       "      <th>Country name</th>\n",
       "      <th>Ladder score</th>\n",
       "      <th>Logged GDP per capita</th>\n",
       "      <th>Social support</th>\n",
       "      <th>Healthy life expectancy</th>\n",
       "      <th>Freedom to make life choices</th>\n",
       "      <th>Generosity</th>\n",
       "      <th>Perceptions of corruption</th>\n",
       "    </tr>\n",
       "  </thead>\n",
       "  <tbody>\n",
       "    <tr>\n",
       "      <th>0</th>\n",
       "      <td>Finland</td>\n",
       "      <td>7.842</td>\n",
       "      <td>1.446</td>\n",
       "      <td>1.106</td>\n",
       "      <td>0.741</td>\n",
       "      <td>0.691</td>\n",
       "      <td>0.124</td>\n",
       "      <td>0.481</td>\n",
       "    </tr>\n",
       "    <tr>\n",
       "      <th>1</th>\n",
       "      <td>Denmark</td>\n",
       "      <td>7.620</td>\n",
       "      <td>1.502</td>\n",
       "      <td>1.108</td>\n",
       "      <td>0.763</td>\n",
       "      <td>0.686</td>\n",
       "      <td>0.208</td>\n",
       "      <td>0.485</td>\n",
       "    </tr>\n",
       "    <tr>\n",
       "      <th>2</th>\n",
       "      <td>Switzerland</td>\n",
       "      <td>7.571</td>\n",
       "      <td>1.566</td>\n",
       "      <td>1.079</td>\n",
       "      <td>0.816</td>\n",
       "      <td>0.653</td>\n",
       "      <td>0.204</td>\n",
       "      <td>0.413</td>\n",
       "    </tr>\n",
       "    <tr>\n",
       "      <th>3</th>\n",
       "      <td>Iceland</td>\n",
       "      <td>7.554</td>\n",
       "      <td>1.482</td>\n",
       "      <td>1.172</td>\n",
       "      <td>0.772</td>\n",
       "      <td>0.698</td>\n",
       "      <td>0.293</td>\n",
       "      <td>0.170</td>\n",
       "    </tr>\n",
       "    <tr>\n",
       "      <th>4</th>\n",
       "      <td>Netherlands</td>\n",
       "      <td>7.464</td>\n",
       "      <td>1.501</td>\n",
       "      <td>1.079</td>\n",
       "      <td>0.753</td>\n",
       "      <td>0.647</td>\n",
       "      <td>0.302</td>\n",
       "      <td>0.384</td>\n",
       "    </tr>\n",
       "  </tbody>\n",
       "</table>\n",
       "</div>"
      ],
      "text/plain": [
       "  Country name  Ladder score  Logged GDP per capita  Social support  \\\n",
       "0      Finland         7.842                  1.446           1.106   \n",
       "1      Denmark         7.620                  1.502           1.108   \n",
       "2  Switzerland         7.571                  1.566           1.079   \n",
       "3      Iceland         7.554                  1.482           1.172   \n",
       "4  Netherlands         7.464                  1.501           1.079   \n",
       "\n",
       "   Healthy life expectancy  Freedom to make life choices  Generosity  \\\n",
       "0                    0.741                         0.691       0.124   \n",
       "1                    0.763                         0.686       0.208   \n",
       "2                    0.816                         0.653       0.204   \n",
       "3                    0.772                         0.698       0.293   \n",
       "4                    0.753                         0.647       0.302   \n",
       "\n",
       "   Perceptions of corruption  \n",
       "0                      0.481  \n",
       "1                      0.485  \n",
       "2                      0.413  \n",
       "3                      0.170  \n",
       "4                      0.384  "
      ]
     },
     "execution_count": 55,
     "metadata": {},
     "output_type": "execute_result"
    }
   ],
   "source": [
    "#Load the data\n",
    "file_path = \"clean_whr_2021.csv\"\n",
    "happy21_df = pd.read_csv(file_path)\n",
    "happy21_df.head()"
   ]
  },
  {
   "cell_type": "code",
   "execution_count": 56,
   "id": "af305220",
   "metadata": {},
   "outputs": [
    {
     "data": {
      "text/plain": [
       "Index(['Country name', 'Ladder score', 'Logged GDP per capita',\n",
       "       'Social support', 'Healthy life expectancy',\n",
       "       'Freedom to make life choices', 'Generosity',\n",
       "       'Perceptions of corruption'],\n",
       "      dtype='object')"
      ]
     },
     "execution_count": 56,
     "metadata": {},
     "output_type": "execute_result"
    }
   ],
   "source": [
    "#Columns\n",
    "happy21_df.columns"
   ]
  },
  {
   "cell_type": "code",
   "execution_count": 57,
   "id": "a75154c4",
   "metadata": {},
   "outputs": [
    {
     "data": {
      "text/plain": [
       "Country name                     object\n",
       "Ladder score                    float64\n",
       "Logged GDP per capita           float64\n",
       "Social support                  float64\n",
       "Healthy life expectancy         float64\n",
       "Freedom to make life choices    float64\n",
       "Generosity                      float64\n",
       "Perceptions of corruption       float64\n",
       "dtype: object"
      ]
     },
     "execution_count": 57,
     "metadata": {},
     "output_type": "execute_result"
    }
   ],
   "source": [
    "#List dataframe data types\n",
    "happy21_df.dtypes"
   ]
  },
  {
   "cell_type": "code",
   "execution_count": 58,
   "id": "5cbe2c89",
   "metadata": {},
   "outputs": [
    {
     "name": "stdout",
     "output_type": "stream",
     "text": [
      "Column Country name has 0 null value\n",
      "Column Ladder score has 0 null value\n",
      "Column Logged GDP per capita has 0 null value\n",
      "Column Social support has 0 null value\n",
      "Column Healthy life expectancy has 0 null value\n",
      "Column Freedom to make life choices has 0 null value\n",
      "Column Generosity has 0 null value\n",
      "Column Perceptions of corruption has 0 null value\n"
     ]
    }
   ],
   "source": [
    "#Find any Null values in any of the columns\n",
    "for column in happy21_df.columns:\n",
    "    print(f\"Column {column} has {happy21_df[column].isnull().sum()} null value\")"
   ]
  },
  {
   "cell_type": "code",
   "execution_count": 60,
   "id": "58809b8c",
   "metadata": {},
   "outputs": [
    {
     "data": {
      "text/html": [
       "<div>\n",
       "<style scoped>\n",
       "    .dataframe tbody tr th:only-of-type {\n",
       "        vertical-align: middle;\n",
       "    }\n",
       "\n",
       "    .dataframe tbody tr th {\n",
       "        vertical-align: top;\n",
       "    }\n",
       "\n",
       "    .dataframe thead th {\n",
       "        text-align: right;\n",
       "    }\n",
       "</style>\n",
       "<table border=\"1\" class=\"dataframe\">\n",
       "  <thead>\n",
       "    <tr style=\"text-align: right;\">\n",
       "      <th></th>\n",
       "      <th>Ladder score</th>\n",
       "      <th>Logged GDP per capita</th>\n",
       "      <th>Social support</th>\n",
       "      <th>Healthy life expectancy</th>\n",
       "      <th>Freedom to make life choices</th>\n",
       "      <th>Generosity</th>\n",
       "      <th>Perceptions of corruption</th>\n",
       "    </tr>\n",
       "  </thead>\n",
       "  <tbody>\n",
       "    <tr>\n",
       "      <th>0</th>\n",
       "      <td>7.842</td>\n",
       "      <td>1.446</td>\n",
       "      <td>1.106</td>\n",
       "      <td>0.741</td>\n",
       "      <td>0.691</td>\n",
       "      <td>0.124</td>\n",
       "      <td>0.481</td>\n",
       "    </tr>\n",
       "    <tr>\n",
       "      <th>1</th>\n",
       "      <td>7.620</td>\n",
       "      <td>1.502</td>\n",
       "      <td>1.108</td>\n",
       "      <td>0.763</td>\n",
       "      <td>0.686</td>\n",
       "      <td>0.208</td>\n",
       "      <td>0.485</td>\n",
       "    </tr>\n",
       "    <tr>\n",
       "      <th>2</th>\n",
       "      <td>7.571</td>\n",
       "      <td>1.566</td>\n",
       "      <td>1.079</td>\n",
       "      <td>0.816</td>\n",
       "      <td>0.653</td>\n",
       "      <td>0.204</td>\n",
       "      <td>0.413</td>\n",
       "    </tr>\n",
       "    <tr>\n",
       "      <th>3</th>\n",
       "      <td>7.554</td>\n",
       "      <td>1.482</td>\n",
       "      <td>1.172</td>\n",
       "      <td>0.772</td>\n",
       "      <td>0.698</td>\n",
       "      <td>0.293</td>\n",
       "      <td>0.170</td>\n",
       "    </tr>\n",
       "    <tr>\n",
       "      <th>4</th>\n",
       "      <td>7.464</td>\n",
       "      <td>1.501</td>\n",
       "      <td>1.079</td>\n",
       "      <td>0.753</td>\n",
       "      <td>0.647</td>\n",
       "      <td>0.302</td>\n",
       "      <td>0.384</td>\n",
       "    </tr>\n",
       "  </tbody>\n",
       "</table>\n",
       "</div>"
      ],
      "text/plain": [
       "   Ladder score  Logged GDP per capita  Social support  \\\n",
       "0         7.842                  1.446           1.106   \n",
       "1         7.620                  1.502           1.108   \n",
       "2         7.571                  1.566           1.079   \n",
       "3         7.554                  1.482           1.172   \n",
       "4         7.464                  1.501           1.079   \n",
       "\n",
       "   Healthy life expectancy  Freedom to make life choices  Generosity  \\\n",
       "0                    0.741                         0.691       0.124   \n",
       "1                    0.763                         0.686       0.208   \n",
       "2                    0.816                         0.653       0.204   \n",
       "3                    0.772                         0.698       0.293   \n",
       "4                    0.753                         0.647       0.302   \n",
       "\n",
       "   Perceptions of corruption  \n",
       "0                      0.481  \n",
       "1                      0.485  \n",
       "2                      0.413  \n",
       "3                      0.170  \n",
       "4                      0.384  "
      ]
     },
     "execution_count": 60,
     "metadata": {},
     "output_type": "execute_result"
    }
   ],
   "source": [
    "#Remove country or region column\n",
    "happy21_df.drop(columns=[\"Country name\"], inplace=True)\n",
    "happy21_df.head()"
   ]
  },
  {
   "cell_type": "code",
   "execution_count": 62,
   "id": "95fc1eff",
   "metadata": {},
   "outputs": [
    {
     "data": {
      "text/plain": [
       "LinearRegression()"
      ]
     },
     "execution_count": 62,
     "metadata": {},
     "output_type": "execute_result"
    }
   ],
   "source": [
    "# Initializing model with K = 3\n",
    "model = LinearRegression()\n",
    "model"
   ]
  },
  {
   "cell_type": "code",
   "execution_count": 63,
   "id": "eac78028",
   "metadata": {},
   "outputs": [
    {
     "data": {
      "text/plain": [
       "LinearRegression()"
      ]
     },
     "execution_count": 63,
     "metadata": {},
     "output_type": "execute_result"
    }
   ],
   "source": [
    "# Fit the model\n",
    "model.fit(happy21_df.drop(columns=[\"Ladder score\"]),happy21_df[\"Ladder score\"])\n"
   ]
  },
  {
   "cell_type": "code",
   "execution_count": 65,
   "id": "7ed55c98",
   "metadata": {},
   "outputs": [
    {
     "data": {
      "text/plain": [
       "0.7558980162970426"
      ]
     },
     "execution_count": 65,
     "metadata": {},
     "output_type": "execute_result"
    }
   ],
   "source": [
    "model.score(happy21_df.drop(columns=[\"Ladder score\"]),happy21_df[\"Ladder score\"])\n"
   ]
  },
  {
   "cell_type": "code",
   "execution_count": 66,
   "id": "fda69f96",
   "metadata": {},
   "outputs": [
    {
     "name": "stdout",
     "output_type": "stream",
     "text": [
      "[7.07932172 7.19022394 7.13566001 7.02222017 7.0405694  7.23748244\n",
      " 7.10399581 7.04492683 7.08001215 6.8950424  6.97545225 6.43688066\n",
      " 6.72151888 6.92605752 7.04948809 6.24001784 6.80006704 6.32826692\n",
      " 6.48546722 6.34753357 6.58539864 6.44107137 6.75885641 6.25102695\n",
      " 6.53839043 6.28489993 6.34012892 5.98782856 6.59986595 5.61543569\n",
      " 6.34343331 7.3804799  5.62081492 6.02022435 5.7758343  5.85244517\n",
      " 5.74998093 6.05312577 5.96467787 6.57871418 6.15898424 6.23779349\n",
      " 5.85821618 6.18609175 6.18194713 5.79180308 6.16260502 5.79818278\n",
      " 5.52119294 6.06769724 5.86971577 5.71829422 5.97513502 6.08415686\n",
      " 5.6491218  6.31353704 5.95606092 6.22224701 5.49365039 5.95675123\n",
      " 5.59399292 5.83983192 5.59439087 5.56094721 5.58695666 5.62056917\n",
      " 5.68795864 5.43972977 5.45677545 5.54879822 5.85268948 5.66891\n",
      " 5.86469586 6.2159742  5.63792774 5.69851811 6.45932982 5.42056879\n",
      " 5.81023715 5.50424293 6.01801684 5.70563242 4.2951044  5.89223865\n",
      " 4.27123817 5.64377829 5.08600637 5.88300794 6.13874431 5.74631594\n",
      " 4.3970045  4.49935099 5.26477703 5.42778104 4.86017886 4.17206711\n",
      " 6.10500175 4.39575023 4.00158939 5.33016694 5.143007   4.17920076\n",
      " 5.20620931 5.33463743 4.53500861 4.62894592 5.12771004 5.14242265\n",
      " 4.84669746 5.46020683 4.7461426  5.07524845 4.1558351  5.30178898\n",
      " 4.64502542 4.46387213 4.1848111  5.07904841 4.49617277 4.27819416\n",
      " 4.81557693 4.821467   5.08166755 4.9504101  4.82338083 5.4246094\n",
      " 5.29093979 3.5149923  5.69480731 4.54875157 3.95359995 5.07366935\n",
      " 4.67565737 4.49805593 3.94862996 3.68399164 4.57993961 3.91513496\n",
      " 4.90168155 3.33369367 4.34324556 4.85337295 3.78671596 3.93473238\n",
      " 4.23804996 5.31765946 4.86228346 4.39140049 2.82187924]\n"
     ]
    }
   ],
   "source": [
    "# Get the predictions\n",
    "predictions = model.predict(happy21_df.drop(columns=[\"Ladder score\"]))\n",
    "print(predictions)\n"
   ]
  },
  {
   "cell_type": "code",
   "execution_count": 67,
   "id": "c928af31",
   "metadata": {},
   "outputs": [
    {
     "data": {
      "text/html": [
       "<div>\n",
       "<style scoped>\n",
       "    .dataframe tbody tr th:only-of-type {\n",
       "        vertical-align: middle;\n",
       "    }\n",
       "\n",
       "    .dataframe tbody tr th {\n",
       "        vertical-align: top;\n",
       "    }\n",
       "\n",
       "    .dataframe thead th {\n",
       "        text-align: right;\n",
       "    }\n",
       "</style>\n",
       "<table border=\"1\" class=\"dataframe\">\n",
       "  <thead>\n",
       "    <tr style=\"text-align: right;\">\n",
       "      <th></th>\n",
       "      <th>Ladder score</th>\n",
       "      <th>Logged GDP per capita</th>\n",
       "      <th>Social support</th>\n",
       "      <th>Healthy life expectancy</th>\n",
       "      <th>Freedom to make life choices</th>\n",
       "      <th>Generosity</th>\n",
       "      <th>Perceptions of corruption</th>\n",
       "    </tr>\n",
       "  </thead>\n",
       "  <tbody>\n",
       "    <tr>\n",
       "      <th>0</th>\n",
       "      <td>7.842</td>\n",
       "      <td>1.446</td>\n",
       "      <td>1.106</td>\n",
       "      <td>0.741</td>\n",
       "      <td>0.691</td>\n",
       "      <td>0.124</td>\n",
       "      <td>0.481</td>\n",
       "    </tr>\n",
       "    <tr>\n",
       "      <th>1</th>\n",
       "      <td>7.620</td>\n",
       "      <td>1.502</td>\n",
       "      <td>1.108</td>\n",
       "      <td>0.763</td>\n",
       "      <td>0.686</td>\n",
       "      <td>0.208</td>\n",
       "      <td>0.485</td>\n",
       "    </tr>\n",
       "    <tr>\n",
       "      <th>2</th>\n",
       "      <td>7.571</td>\n",
       "      <td>1.566</td>\n",
       "      <td>1.079</td>\n",
       "      <td>0.816</td>\n",
       "      <td>0.653</td>\n",
       "      <td>0.204</td>\n",
       "      <td>0.413</td>\n",
       "    </tr>\n",
       "    <tr>\n",
       "      <th>3</th>\n",
       "      <td>7.554</td>\n",
       "      <td>1.482</td>\n",
       "      <td>1.172</td>\n",
       "      <td>0.772</td>\n",
       "      <td>0.698</td>\n",
       "      <td>0.293</td>\n",
       "      <td>0.170</td>\n",
       "    </tr>\n",
       "    <tr>\n",
       "      <th>4</th>\n",
       "      <td>7.464</td>\n",
       "      <td>1.501</td>\n",
       "      <td>1.079</td>\n",
       "      <td>0.753</td>\n",
       "      <td>0.647</td>\n",
       "      <td>0.302</td>\n",
       "      <td>0.384</td>\n",
       "    </tr>\n",
       "    <tr>\n",
       "      <th>...</th>\n",
       "      <td>...</td>\n",
       "      <td>...</td>\n",
       "      <td>...</td>\n",
       "      <td>...</td>\n",
       "      <td>...</td>\n",
       "      <td>...</td>\n",
       "      <td>...</td>\n",
       "    </tr>\n",
       "    <tr>\n",
       "      <th>144</th>\n",
       "      <td>3.512</td>\n",
       "      <td>0.451</td>\n",
       "      <td>0.731</td>\n",
       "      <td>0.007</td>\n",
       "      <td>0.405</td>\n",
       "      <td>0.103</td>\n",
       "      <td>0.015</td>\n",
       "    </tr>\n",
       "    <tr>\n",
       "      <th>145</th>\n",
       "      <td>3.467</td>\n",
       "      <td>1.099</td>\n",
       "      <td>0.724</td>\n",
       "      <td>0.340</td>\n",
       "      <td>0.539</td>\n",
       "      <td>0.027</td>\n",
       "      <td>0.088</td>\n",
       "    </tr>\n",
       "    <tr>\n",
       "      <th>146</th>\n",
       "      <td>3.415</td>\n",
       "      <td>0.364</td>\n",
       "      <td>0.202</td>\n",
       "      <td>0.407</td>\n",
       "      <td>0.627</td>\n",
       "      <td>0.227</td>\n",
       "      <td>0.493</td>\n",
       "    </tr>\n",
       "    <tr>\n",
       "      <th>147</th>\n",
       "      <td>3.145</td>\n",
       "      <td>0.457</td>\n",
       "      <td>0.649</td>\n",
       "      <td>0.243</td>\n",
       "      <td>0.359</td>\n",
       "      <td>0.157</td>\n",
       "      <td>0.075</td>\n",
       "    </tr>\n",
       "    <tr>\n",
       "      <th>148</th>\n",
       "      <td>2.523</td>\n",
       "      <td>0.370</td>\n",
       "      <td>0.000</td>\n",
       "      <td>0.126</td>\n",
       "      <td>0.000</td>\n",
       "      <td>0.122</td>\n",
       "      <td>0.010</td>\n",
       "    </tr>\n",
       "  </tbody>\n",
       "</table>\n",
       "<p>149 rows × 7 columns</p>\n",
       "</div>"
      ],
      "text/plain": [
       "     Ladder score  Logged GDP per capita  Social support  \\\n",
       "0           7.842                  1.446           1.106   \n",
       "1           7.620                  1.502           1.108   \n",
       "2           7.571                  1.566           1.079   \n",
       "3           7.554                  1.482           1.172   \n",
       "4           7.464                  1.501           1.079   \n",
       "..            ...                    ...             ...   \n",
       "144         3.512                  0.451           0.731   \n",
       "145         3.467                  1.099           0.724   \n",
       "146         3.415                  0.364           0.202   \n",
       "147         3.145                  0.457           0.649   \n",
       "148         2.523                  0.370           0.000   \n",
       "\n",
       "     Healthy life expectancy  Freedom to make life choices  Generosity  \\\n",
       "0                      0.741                         0.691       0.124   \n",
       "1                      0.763                         0.686       0.208   \n",
       "2                      0.816                         0.653       0.204   \n",
       "3                      0.772                         0.698       0.293   \n",
       "4                      0.753                         0.647       0.302   \n",
       "..                       ...                           ...         ...   \n",
       "144                    0.007                         0.405       0.103   \n",
       "145                    0.340                         0.539       0.027   \n",
       "146                    0.407                         0.627       0.227   \n",
       "147                    0.243                         0.359       0.157   \n",
       "148                    0.126                         0.000       0.122   \n",
       "\n",
       "     Perceptions of corruption  \n",
       "0                        0.481  \n",
       "1                        0.485  \n",
       "2                        0.413  \n",
       "3                        0.170  \n",
       "4                        0.384  \n",
       "..                         ...  \n",
       "144                      0.015  \n",
       "145                      0.088  \n",
       "146                      0.493  \n",
       "147                      0.075  \n",
       "148                      0.010  \n",
       "\n",
       "[149 rows x 7 columns]"
      ]
     },
     "execution_count": 67,
     "metadata": {},
     "output_type": "execute_result"
    }
   ],
   "source": [
    "happy21_df\n"
   ]
  },
  {
   "cell_type": "code",
   "execution_count": null,
   "id": "d1e49205",
   "metadata": {},
   "outputs": [],
   "source": []
  }
 ],
 "metadata": {
  "kernelspec": {
   "display_name": "mlenv",
   "language": "python",
   "name": "mlenv"
  },
  "language_info": {
   "codemirror_mode": {
    "name": "ipython",
    "version": 3
   },
   "file_extension": ".py",
   "mimetype": "text/x-python",
   "name": "python",
   "nbconvert_exporter": "python",
   "pygments_lexer": "ipython3",
   "version": "3.7.11"
  }
 },
 "nbformat": 4,
 "nbformat_minor": 5
}
